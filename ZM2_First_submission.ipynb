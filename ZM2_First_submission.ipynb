{
 "cells": [
  {
   "cell_type": "code",
   "execution_count": 99,
   "metadata": {},
   "outputs": [],
   "source": [
    "# Regression models\n",
    "from sklearn.linear_model import LinearRegression\n",
    "\n",
    "# Model slection\n",
    "from sklearn.model_selection import train_test_split\n",
    "\n",
    "# Preprocessing\n",
    "from sklearn.preprocessing import StandardScaler\n",
    "\n",
    "# Metrics\n",
    "from sklearn.metrics import r2_score\n",
    "from sklearn.metrics import mean_squared_error\n",
    "\n",
    "# Visualisations\n",
    "#import missingno\n",
    "import seaborn as sns\n",
    "import matplotlib.pyplot as plt\n",
    "%matplotlib inline\n",
    "\n",
    "# Other\n",
    "from scipy import stats\n",
    "import math\n",
    "import pickle"
   ]
  },
  {
   "cell_type": "code",
   "execution_count": 100,
   "metadata": {},
   "outputs": [],
   "source": [
    "import numpy as np\n",
    "import pandas as pd"
   ]
  },
  {
   "cell_type": "code",
   "execution_count": 101,
   "metadata": {},
   "outputs": [],
   "source": [
    "# import the data\n",
    "df_train = pd.read_csv('https://raw.githubusercontent.com/ShaniPillay/regression-apples-predict-api-template/main/utils/data/train_data.csv')\n",
    "df_test = pd.read_csv('https://raw.githubusercontent.com/ShaniPillay/regression-apples-predict-api-template/main/utils/data/test_data.csv')\n"
   ]
  },
  {
   "cell_type": "code",
   "execution_count": 103,
   "metadata": {},
   "outputs": [],
   "source": [
    "test_ID = df_test['Index']"
   ]
  },
  {
   "cell_type": "code",
   "execution_count": 104,
   "metadata": {},
   "outputs": [],
   "source": [
    "df_test = df_test.drop('Index', axis=1) # drop index for the test data, train data doesnt have index"
   ]
  },
  {
   "cell_type": "code",
   "execution_count": 105,
   "metadata": {},
   "outputs": [
    {
     "data": {
      "text/html": [
       "<div>\n",
       "<style scoped>\n",
       "    .dataframe tbody tr th:only-of-type {\n",
       "        vertical-align: middle;\n",
       "    }\n",
       "\n",
       "    .dataframe tbody tr th {\n",
       "        vertical-align: top;\n",
       "    }\n",
       "\n",
       "    .dataframe thead th {\n",
       "        text-align: right;\n",
       "    }\n",
       "</style>\n",
       "<table border=\"1\" class=\"dataframe\">\n",
       "  <thead>\n",
       "    <tr style=\"text-align: right;\">\n",
       "      <th></th>\n",
       "      <th>Province</th>\n",
       "      <th>Container</th>\n",
       "      <th>Size_Grade</th>\n",
       "      <th>Weight_Kg</th>\n",
       "      <th>Commodities</th>\n",
       "      <th>Date</th>\n",
       "      <th>Low_Price</th>\n",
       "      <th>High_Price</th>\n",
       "      <th>Sales_Total</th>\n",
       "      <th>Total_Qty_Sold</th>\n",
       "      <th>Total_Kg_Sold</th>\n",
       "      <th>Stock_On_Hand</th>\n",
       "      <th>avg_price_per_kg</th>\n",
       "    </tr>\n",
       "  </thead>\n",
       "  <tbody>\n",
       "    <tr>\n",
       "      <th>0</th>\n",
       "      <td>CAPE</td>\n",
       "      <td>EC120</td>\n",
       "      <td>1L</td>\n",
       "      <td>12.0</td>\n",
       "      <td>APPLE GRANNY SMITH</td>\n",
       "      <td>2020-03-10</td>\n",
       "      <td>108.0</td>\n",
       "      <td>112.0</td>\n",
       "      <td>3236.0</td>\n",
       "      <td>29</td>\n",
       "      <td>348.0</td>\n",
       "      <td>0</td>\n",
       "      <td>9.30</td>\n",
       "    </tr>\n",
       "    <tr>\n",
       "      <th>1</th>\n",
       "      <td>CAPE</td>\n",
       "      <td>M4183</td>\n",
       "      <td>1L</td>\n",
       "      <td>18.3</td>\n",
       "      <td>APPLE GOLDEN DELICIOUS</td>\n",
       "      <td>2020-09-09</td>\n",
       "      <td>150.0</td>\n",
       "      <td>170.0</td>\n",
       "      <td>51710.0</td>\n",
       "      <td>332</td>\n",
       "      <td>6075.6</td>\n",
       "      <td>822</td>\n",
       "      <td>8.51</td>\n",
       "    </tr>\n",
       "  </tbody>\n",
       "</table>\n",
       "</div>"
      ],
      "text/plain": [
       "  Province Container Size_Grade  Weight_Kg             Commodities  \\\n",
       "0     CAPE     EC120         1L       12.0      APPLE GRANNY SMITH   \n",
       "1     CAPE     M4183         1L       18.3  APPLE GOLDEN DELICIOUS   \n",
       "\n",
       "         Date  Low_Price  High_Price  Sales_Total  Total_Qty_Sold  \\\n",
       "0  2020-03-10      108.0       112.0       3236.0              29   \n",
       "1  2020-09-09      150.0       170.0      51710.0             332   \n",
       "\n",
       "   Total_Kg_Sold  Stock_On_Hand  avg_price_per_kg  \n",
       "0          348.0              0              9.30  \n",
       "1         6075.6            822              8.51  "
      ]
     },
     "execution_count": 105,
     "metadata": {},
     "output_type": "execute_result"
    }
   ],
   "source": [
    "df_train.head(2)"
   ]
  },
  {
   "cell_type": "code",
   "execution_count": 106,
   "metadata": {},
   "outputs": [
    {
     "data": {
      "text/html": [
       "<div>\n",
       "<style scoped>\n",
       "    .dataframe tbody tr th:only-of-type {\n",
       "        vertical-align: middle;\n",
       "    }\n",
       "\n",
       "    .dataframe tbody tr th {\n",
       "        vertical-align: top;\n",
       "    }\n",
       "\n",
       "    .dataframe thead th {\n",
       "        text-align: right;\n",
       "    }\n",
       "</style>\n",
       "<table border=\"1\" class=\"dataframe\">\n",
       "  <thead>\n",
       "    <tr style=\"text-align: right;\">\n",
       "      <th></th>\n",
       "      <th>Province</th>\n",
       "      <th>Container</th>\n",
       "      <th>Size_Grade</th>\n",
       "      <th>Weight_Kg</th>\n",
       "      <th>Commodities</th>\n",
       "      <th>Date</th>\n",
       "      <th>Low_Price</th>\n",
       "      <th>High_Price</th>\n",
       "      <th>Sales_Total</th>\n",
       "      <th>Total_Qty_Sold</th>\n",
       "      <th>Total_Kg_Sold</th>\n",
       "      <th>Stock_On_Hand</th>\n",
       "    </tr>\n",
       "  </thead>\n",
       "  <tbody>\n",
       "    <tr>\n",
       "      <th>0</th>\n",
       "      <td>W.CAPE-BERGRIVER ETC</td>\n",
       "      <td>EC120</td>\n",
       "      <td>1M</td>\n",
       "      <td>12.0</td>\n",
       "      <td>APPLE GOLDEN DELICIOUS</td>\n",
       "      <td>2020-07-09</td>\n",
       "      <td>128.0</td>\n",
       "      <td>136.0</td>\n",
       "      <td>5008.0</td>\n",
       "      <td>38</td>\n",
       "      <td>456.0</td>\n",
       "      <td>0</td>\n",
       "    </tr>\n",
       "    <tr>\n",
       "      <th>1</th>\n",
       "      <td>W.CAPE-BERGRIVER ETC</td>\n",
       "      <td>M4183</td>\n",
       "      <td>1X</td>\n",
       "      <td>18.3</td>\n",
       "      <td>APPLE GOLDEN DELICIOUS</td>\n",
       "      <td>2020-01-20</td>\n",
       "      <td>220.0</td>\n",
       "      <td>220.0</td>\n",
       "      <td>1760.0</td>\n",
       "      <td>8</td>\n",
       "      <td>146.4</td>\n",
       "      <td>2</td>\n",
       "    </tr>\n",
       "  </tbody>\n",
       "</table>\n",
       "</div>"
      ],
      "text/plain": [
       "               Province Container Size_Grade  Weight_Kg  \\\n",
       "0  W.CAPE-BERGRIVER ETC     EC120         1M       12.0   \n",
       "1  W.CAPE-BERGRIVER ETC     M4183         1X       18.3   \n",
       "\n",
       "              Commodities        Date  Low_Price  High_Price  Sales_Total  \\\n",
       "0  APPLE GOLDEN DELICIOUS  2020-07-09      128.0       136.0       5008.0   \n",
       "1  APPLE GOLDEN DELICIOUS  2020-01-20      220.0       220.0       1760.0   \n",
       "\n",
       "   Total_Qty_Sold  Total_Kg_Sold  Stock_On_Hand  \n",
       "0              38          456.0              0  \n",
       "1               8          146.4              2  "
      ]
     },
     "execution_count": 106,
     "metadata": {},
     "output_type": "execute_result"
    }
   ],
   "source": [
    "df_test.head(2)"
   ]
  },
  {
   "cell_type": "code",
   "execution_count": 107,
   "metadata": {},
   "outputs": [
    {
     "data": {
      "text/plain": [
       "(685, 12)"
      ]
     },
     "execution_count": 107,
     "metadata": {},
     "output_type": "execute_result"
    }
   ],
   "source": [
    "df_test.shape"
   ]
  },
  {
   "cell_type": "code",
   "execution_count": 108,
   "metadata": {},
   "outputs": [
    {
     "data": {
      "text/plain": [
       "(64376, 13)"
      ]
     },
     "execution_count": 108,
     "metadata": {},
     "output_type": "execute_result"
    }
   ],
   "source": [
    "df_train.shape"
   ]
  },
  {
   "cell_type": "code",
   "execution_count": 109,
   "metadata": {},
   "outputs": [],
   "source": [
    "train=df_train.loc[df_train['Commodities'] == 'APPLE GOLDEN DELICIOUS']"
   ]
  },
  {
   "cell_type": "code",
   "execution_count": 110,
   "metadata": {},
   "outputs": [],
   "source": [
    "test=df_test.loc[df_test['Commodities'] == 'APPLE GOLDEN DELICIOUS']"
   ]
  },
  {
   "cell_type": "code",
   "execution_count": 111,
   "metadata": {},
   "outputs": [
    {
     "data": {
      "text/html": [
       "<div>\n",
       "<style scoped>\n",
       "    .dataframe tbody tr th:only-of-type {\n",
       "        vertical-align: middle;\n",
       "    }\n",
       "\n",
       "    .dataframe tbody tr th {\n",
       "        vertical-align: top;\n",
       "    }\n",
       "\n",
       "    .dataframe thead th {\n",
       "        text-align: right;\n",
       "    }\n",
       "</style>\n",
       "<table border=\"1\" class=\"dataframe\">\n",
       "  <thead>\n",
       "    <tr style=\"text-align: right;\">\n",
       "      <th></th>\n",
       "      <th>Province</th>\n",
       "      <th>Container</th>\n",
       "      <th>Size_Grade</th>\n",
       "      <th>Weight_Kg</th>\n",
       "      <th>Commodities</th>\n",
       "      <th>Date</th>\n",
       "      <th>Low_Price</th>\n",
       "      <th>High_Price</th>\n",
       "      <th>Sales_Total</th>\n",
       "      <th>Total_Qty_Sold</th>\n",
       "      <th>Total_Kg_Sold</th>\n",
       "      <th>Stock_On_Hand</th>\n",
       "    </tr>\n",
       "  </thead>\n",
       "  <tbody>\n",
       "    <tr>\n",
       "      <th>0</th>\n",
       "      <td>W.CAPE-BERGRIVER ETC</td>\n",
       "      <td>EC120</td>\n",
       "      <td>1M</td>\n",
       "      <td>12.0</td>\n",
       "      <td>APPLE GOLDEN DELICIOUS</td>\n",
       "      <td>2020-07-09</td>\n",
       "      <td>128.0</td>\n",
       "      <td>136.0</td>\n",
       "      <td>5008.0</td>\n",
       "      <td>38</td>\n",
       "      <td>456.0</td>\n",
       "      <td>0</td>\n",
       "    </tr>\n",
       "    <tr>\n",
       "      <th>1</th>\n",
       "      <td>W.CAPE-BERGRIVER ETC</td>\n",
       "      <td>M4183</td>\n",
       "      <td>1X</td>\n",
       "      <td>18.3</td>\n",
       "      <td>APPLE GOLDEN DELICIOUS</td>\n",
       "      <td>2020-01-20</td>\n",
       "      <td>220.0</td>\n",
       "      <td>220.0</td>\n",
       "      <td>1760.0</td>\n",
       "      <td>8</td>\n",
       "      <td>146.4</td>\n",
       "      <td>2</td>\n",
       "    </tr>\n",
       "  </tbody>\n",
       "</table>\n",
       "</div>"
      ],
      "text/plain": [
       "               Province Container Size_Grade  Weight_Kg  \\\n",
       "0  W.CAPE-BERGRIVER ETC     EC120         1M       12.0   \n",
       "1  W.CAPE-BERGRIVER ETC     M4183         1X       18.3   \n",
       "\n",
       "              Commodities        Date  Low_Price  High_Price  Sales_Total  \\\n",
       "0  APPLE GOLDEN DELICIOUS  2020-07-09      128.0       136.0       5008.0   \n",
       "1  APPLE GOLDEN DELICIOUS  2020-01-20      220.0       220.0       1760.0   \n",
       "\n",
       "   Total_Qty_Sold  Total_Kg_Sold  Stock_On_Hand  \n",
       "0              38          456.0              0  \n",
       "1               8          146.4              2  "
      ]
     },
     "execution_count": 111,
     "metadata": {},
     "output_type": "execute_result"
    }
   ],
   "source": [
    "test.head(2)"
   ]
  },
  {
   "cell_type": "code",
   "execution_count": 112,
   "metadata": {},
   "outputs": [
    {
     "data": {
      "text/plain": [
       "((1952, 13), (685, 12))"
      ]
     },
     "execution_count": 112,
     "metadata": {},
     "output_type": "execute_result"
    }
   ],
   "source": [
    "train.shape,test.shape"
   ]
  },
  {
   "cell_type": "code",
   "execution_count": 113,
   "metadata": {},
   "outputs": [
    {
     "data": {
      "text/html": [
       "<div>\n",
       "<style scoped>\n",
       "    .dataframe tbody tr th:only-of-type {\n",
       "        vertical-align: middle;\n",
       "    }\n",
       "\n",
       "    .dataframe tbody tr th {\n",
       "        vertical-align: top;\n",
       "    }\n",
       "\n",
       "    .dataframe thead th {\n",
       "        text-align: right;\n",
       "    }\n",
       "</style>\n",
       "<table border=\"1\" class=\"dataframe\">\n",
       "  <thead>\n",
       "    <tr style=\"text-align: right;\">\n",
       "      <th></th>\n",
       "      <th>Weight_Kg</th>\n",
       "      <th>Low_Price</th>\n",
       "      <th>High_Price</th>\n",
       "      <th>Sales_Total</th>\n",
       "      <th>Total_Qty_Sold</th>\n",
       "      <th>Total_Kg_Sold</th>\n",
       "      <th>Stock_On_Hand</th>\n",
       "      <th>avg_price_per_kg</th>\n",
       "    </tr>\n",
       "  </thead>\n",
       "  <tbody>\n",
       "    <tr>\n",
       "      <th>count</th>\n",
       "      <td>1952.000000</td>\n",
       "      <td>1952.000000</td>\n",
       "      <td>1952.000000</td>\n",
       "      <td>1952.000000</td>\n",
       "      <td>1952.000000</td>\n",
       "      <td>1952.000000</td>\n",
       "      <td>1952.000000</td>\n",
       "      <td>1952.000000</td>\n",
       "    </tr>\n",
       "    <tr>\n",
       "      <th>mean</th>\n",
       "      <td>40.460912</td>\n",
       "      <td>174.307377</td>\n",
       "      <td>215.648053</td>\n",
       "      <td>20053.533811</td>\n",
       "      <td>174.510758</td>\n",
       "      <td>2960.176332</td>\n",
       "      <td>408.393955</td>\n",
       "      <td>6.778893</td>\n",
       "    </tr>\n",
       "    <tr>\n",
       "      <th>std</th>\n",
       "      <td>99.655169</td>\n",
       "      <td>373.553578</td>\n",
       "      <td>433.546159</td>\n",
       "      <td>39005.069445</td>\n",
       "      <td>308.810797</td>\n",
       "      <td>6097.416527</td>\n",
       "      <td>724.450582</td>\n",
       "      <td>2.248744</td>\n",
       "    </tr>\n",
       "    <tr>\n",
       "      <th>min</th>\n",
       "      <td>3.000000</td>\n",
       "      <td>2.000000</td>\n",
       "      <td>5.000000</td>\n",
       "      <td>5.000000</td>\n",
       "      <td>1.000000</td>\n",
       "      <td>3.000000</td>\n",
       "      <td>0.000000</td>\n",
       "      <td>0.250000</td>\n",
       "    </tr>\n",
       "    <tr>\n",
       "      <th>25%</th>\n",
       "      <td>9.000000</td>\n",
       "      <td>50.000000</td>\n",
       "      <td>60.000000</td>\n",
       "      <td>1325.000000</td>\n",
       "      <td>12.000000</td>\n",
       "      <td>219.600000</td>\n",
       "      <td>9.000000</td>\n",
       "      <td>5.460000</td>\n",
       "    </tr>\n",
       "    <tr>\n",
       "      <th>50%</th>\n",
       "      <td>12.000000</td>\n",
       "      <td>80.000000</td>\n",
       "      <td>108.000000</td>\n",
       "      <td>5495.000000</td>\n",
       "      <td>64.000000</td>\n",
       "      <td>853.500000</td>\n",
       "      <td>126.500000</td>\n",
       "      <td>6.670000</td>\n",
       "    </tr>\n",
       "    <tr>\n",
       "      <th>75%</th>\n",
       "      <td>18.300000</td>\n",
       "      <td>127.250000</td>\n",
       "      <td>160.000000</td>\n",
       "      <td>21082.500000</td>\n",
       "      <td>200.000000</td>\n",
       "      <td>3093.525000</td>\n",
       "      <td>468.000000</td>\n",
       "      <td>8.280000</td>\n",
       "    </tr>\n",
       "    <tr>\n",
       "      <th>max</th>\n",
       "      <td>400.000000</td>\n",
       "      <td>2300.000000</td>\n",
       "      <td>3300.000000</td>\n",
       "      <td>369464.000000</td>\n",
       "      <td>4237.000000</td>\n",
       "      <td>74000.000000</td>\n",
       "      <td>6400.000000</td>\n",
       "      <td>21.240000</td>\n",
       "    </tr>\n",
       "  </tbody>\n",
       "</table>\n",
       "</div>"
      ],
      "text/plain": [
       "         Weight_Kg    Low_Price   High_Price    Sales_Total  Total_Qty_Sold  \\\n",
       "count  1952.000000  1952.000000  1952.000000    1952.000000     1952.000000   \n",
       "mean     40.460912   174.307377   215.648053   20053.533811      174.510758   \n",
       "std      99.655169   373.553578   433.546159   39005.069445      308.810797   \n",
       "min       3.000000     2.000000     5.000000       5.000000        1.000000   \n",
       "25%       9.000000    50.000000    60.000000    1325.000000       12.000000   \n",
       "50%      12.000000    80.000000   108.000000    5495.000000       64.000000   \n",
       "75%      18.300000   127.250000   160.000000   21082.500000      200.000000   \n",
       "max     400.000000  2300.000000  3300.000000  369464.000000     4237.000000   \n",
       "\n",
       "       Total_Kg_Sold  Stock_On_Hand  avg_price_per_kg  \n",
       "count    1952.000000    1952.000000       1952.000000  \n",
       "mean     2960.176332     408.393955          6.778893  \n",
       "std      6097.416527     724.450582          2.248744  \n",
       "min         3.000000       0.000000          0.250000  \n",
       "25%       219.600000       9.000000          5.460000  \n",
       "50%       853.500000     126.500000          6.670000  \n",
       "75%      3093.525000     468.000000          8.280000  \n",
       "max     74000.000000    6400.000000         21.240000  "
      ]
     },
     "execution_count": 113,
     "metadata": {},
     "output_type": "execute_result"
    }
   ],
   "source": [
    "train.describe()"
   ]
  },
  {
   "cell_type": "code",
   "execution_count": 114,
   "metadata": {
    "scrolled": true
   },
   "outputs": [
    {
     "name": "stderr",
     "output_type": "stream",
     "text": [
      "C:\\Users\\t1mad\\anaconda3\\lib\\site-packages\\pandas\\core\\frame.py:4163: SettingWithCopyWarning: \n",
      "A value is trying to be set on a copy of a slice from a DataFrame\n",
      "\n",
      "See the caveats in the documentation: https://pandas.pydata.org/pandas-docs/stable/user_guide/indexing.html#returning-a-view-versus-a-copy\n",
      "  return super().drop(\n"
     ]
    }
   ],
   "source": [
    "train.drop(['Commodities','Date'], axis=1, inplace=True) #df.drop(['B', 'C'], axis=1)"
   ]
  },
  {
   "cell_type": "code",
   "execution_count": 115,
   "metadata": {},
   "outputs": [
    {
     "data": {
      "text/html": [
       "<div>\n",
       "<style scoped>\n",
       "    .dataframe tbody tr th:only-of-type {\n",
       "        vertical-align: middle;\n",
       "    }\n",
       "\n",
       "    .dataframe tbody tr th {\n",
       "        vertical-align: top;\n",
       "    }\n",
       "\n",
       "    .dataframe thead th {\n",
       "        text-align: right;\n",
       "    }\n",
       "</style>\n",
       "<table border=\"1\" class=\"dataframe\">\n",
       "  <thead>\n",
       "    <tr style=\"text-align: right;\">\n",
       "      <th></th>\n",
       "      <th>Province</th>\n",
       "      <th>Container</th>\n",
       "      <th>Size_Grade</th>\n",
       "      <th>Weight_Kg</th>\n",
       "      <th>Low_Price</th>\n",
       "      <th>High_Price</th>\n",
       "      <th>Sales_Total</th>\n",
       "      <th>Total_Qty_Sold</th>\n",
       "      <th>Total_Kg_Sold</th>\n",
       "      <th>Stock_On_Hand</th>\n",
       "      <th>avg_price_per_kg</th>\n",
       "    </tr>\n",
       "  </thead>\n",
       "  <tbody>\n",
       "    <tr>\n",
       "      <th>1</th>\n",
       "      <td>CAPE</td>\n",
       "      <td>M4183</td>\n",
       "      <td>1L</td>\n",
       "      <td>18.3</td>\n",
       "      <td>150.0</td>\n",
       "      <td>170.0</td>\n",
       "      <td>51710.0</td>\n",
       "      <td>332</td>\n",
       "      <td>6075.6</td>\n",
       "      <td>822</td>\n",
       "      <td>8.51</td>\n",
       "    </tr>\n",
       "    <tr>\n",
       "      <th>7</th>\n",
       "      <td>CAPE</td>\n",
       "      <td>JG110</td>\n",
       "      <td>2M</td>\n",
       "      <td>11.0</td>\n",
       "      <td>50.0</td>\n",
       "      <td>50.0</td>\n",
       "      <td>16000.0</td>\n",
       "      <td>320</td>\n",
       "      <td>3520.0</td>\n",
       "      <td>0</td>\n",
       "      <td>4.55</td>\n",
       "    </tr>\n",
       "  </tbody>\n",
       "</table>\n",
       "</div>"
      ],
      "text/plain": [
       "  Province Container Size_Grade  Weight_Kg  Low_Price  High_Price  \\\n",
       "1     CAPE     M4183         1L       18.3      150.0       170.0   \n",
       "7     CAPE     JG110         2M       11.0       50.0        50.0   \n",
       "\n",
       "   Sales_Total  Total_Qty_Sold  Total_Kg_Sold  Stock_On_Hand  avg_price_per_kg  \n",
       "1      51710.0             332         6075.6            822              8.51  \n",
       "7      16000.0             320         3520.0              0              4.55  "
      ]
     },
     "execution_count": 115,
     "metadata": {},
     "output_type": "execute_result"
    }
   ],
   "source": [
    "train.head(2)"
   ]
  },
  {
   "cell_type": "code",
   "execution_count": 116,
   "metadata": {},
   "outputs": [
    {
     "name": "stderr",
     "output_type": "stream",
     "text": [
      "C:\\Users\\t1mad\\anaconda3\\lib\\site-packages\\seaborn\\distributions.py:2551: FutureWarning: `distplot` is a deprecated function and will be removed in a future version. Please adapt your code to use either `displot` (a figure-level function with similar flexibility) or `histplot` (an axes-level function for histograms).\n",
      "  warnings.warn(msg, FutureWarning)\n"
     ]
    },
    {
     "data": {
      "text/plain": [
       "<AxesSubplot:xlabel='avg_price_per_kg', ylabel='Density'>"
      ]
     },
     "execution_count": 116,
     "metadata": {},
     "output_type": "execute_result"
    },
    {
     "data": {
      "image/png": "[encoded data removed]",
      "text/plain": [
       "<Figure size 432x288 with 1 Axes>"
      ]
     },
     "metadata": {
      "needs_background": "light"
     },
     "output_type": "display_data"
    }
   ],
   "source": [
    "# target distribution\n",
    "sns.distplot(train['avg_price_per_kg'],kde=True)"
   ]
  },
  {
   "cell_type": "markdown",
   "metadata": {},
   "source": [
    "Data is normally distributed"
   ]
  },
  {
   "cell_type": "markdown",
   "metadata": {},
   "source": [
    "### Dummy Variable Encoding"
   ]
  },
  {
   "cell_type": "code",
   "execution_count": 117,
   "metadata": {},
   "outputs": [],
   "source": [
    "### START FUNCTION\n",
    "def dummy_encode_titles(input_df):\n",
    "    temp_df = input_df.copy()\n",
    "    \n",
    "    # Apply Dummy Encoding \n",
    "    temp_df = pd.get_dummies(temp_df, columns=['Province','Container','Size_Grade'], drop_first=True)\n",
    "    \n",
    "    return temp_df\n",
    "### END FUNCTION"
   ]
  },
  {
   "cell_type": "code",
   "execution_count": 118,
   "metadata": {},
   "outputs": [],
   "source": [
    "train_withDummy=dummy_encode_titles(train)"
   ]
  },
  {
   "cell_type": "code",
   "execution_count": 119,
   "metadata": {},
   "outputs": [
    {
     "data": {
      "text/html": [
       "<div>\n",
       "<style scoped>\n",
       "    .dataframe tbody tr th:only-of-type {\n",
       "        vertical-align: middle;\n",
       "    }\n",
       "\n",
       "    .dataframe tbody tr th {\n",
       "        vertical-align: top;\n",
       "    }\n",
       "\n",
       "    .dataframe thead th {\n",
       "        text-align: right;\n",
       "    }\n",
       "</style>\n",
       "<table border=\"1\" class=\"dataframe\">\n",
       "  <thead>\n",
       "    <tr style=\"text-align: right;\">\n",
       "      <th></th>\n",
       "      <th>Weight_Kg</th>\n",
       "      <th>Low_Price</th>\n",
       "      <th>High_Price</th>\n",
       "      <th>Sales_Total</th>\n",
       "      <th>Total_Qty_Sold</th>\n",
       "      <th>Total_Kg_Sold</th>\n",
       "      <th>Stock_On_Hand</th>\n",
       "      <th>avg_price_per_kg</th>\n",
       "      <th>Province_EASTERN CAPE</th>\n",
       "      <th>Province_NATAL</th>\n",
       "      <th>...</th>\n",
       "      <th>Container_M9125</th>\n",
       "      <th>Size_Grade_1M</th>\n",
       "      <th>Size_Grade_1S</th>\n",
       "      <th>Size_Grade_1U</th>\n",
       "      <th>Size_Grade_1X</th>\n",
       "      <th>Size_Grade_2L</th>\n",
       "      <th>Size_Grade_2M</th>\n",
       "      <th>Size_Grade_2S</th>\n",
       "      <th>Size_Grade_2U</th>\n",
       "      <th>Size_Grade_2X</th>\n",
       "    </tr>\n",
       "  </thead>\n",
       "  <tbody>\n",
       "    <tr>\n",
       "      <th>1</th>\n",
       "      <td>18.3</td>\n",
       "      <td>150.0</td>\n",
       "      <td>170.0</td>\n",
       "      <td>51710.0</td>\n",
       "      <td>332</td>\n",
       "      <td>6075.6</td>\n",
       "      <td>822</td>\n",
       "      <td>8.51</td>\n",
       "      <td>0</td>\n",
       "      <td>0</td>\n",
       "      <td>...</td>\n",
       "      <td>0</td>\n",
       "      <td>0</td>\n",
       "      <td>0</td>\n",
       "      <td>0</td>\n",
       "      <td>0</td>\n",
       "      <td>0</td>\n",
       "      <td>0</td>\n",
       "      <td>0</td>\n",
       "      <td>0</td>\n",
       "      <td>0</td>\n",
       "    </tr>\n",
       "    <tr>\n",
       "      <th>7</th>\n",
       "      <td>11.0</td>\n",
       "      <td>50.0</td>\n",
       "      <td>50.0</td>\n",
       "      <td>16000.0</td>\n",
       "      <td>320</td>\n",
       "      <td>3520.0</td>\n",
       "      <td>0</td>\n",
       "      <td>4.55</td>\n",
       "      <td>0</td>\n",
       "      <td>0</td>\n",
       "      <td>...</td>\n",
       "      <td>0</td>\n",
       "      <td>0</td>\n",
       "      <td>0</td>\n",
       "      <td>0</td>\n",
       "      <td>0</td>\n",
       "      <td>0</td>\n",
       "      <td>1</td>\n",
       "      <td>0</td>\n",
       "      <td>0</td>\n",
       "      <td>0</td>\n",
       "    </tr>\n",
       "  </tbody>\n",
       "</table>\n",
       "<p>2 rows × 33 columns</p>\n",
       "</div>"
      ],
      "text/plain": [
       "   Weight_Kg  Low_Price  High_Price  Sales_Total  Total_Qty_Sold  \\\n",
       "1       18.3      150.0       170.0      51710.0             332   \n",
       "7       11.0       50.0        50.0      16000.0             320   \n",
       "\n",
       "   Total_Kg_Sold  Stock_On_Hand  avg_price_per_kg  Province_EASTERN CAPE  \\\n",
       "1         6075.6            822              8.51                      0   \n",
       "7         3520.0              0              4.55                      0   \n",
       "\n",
       "   Province_NATAL  ...  Container_M9125  Size_Grade_1M  Size_Grade_1S  \\\n",
       "1               0  ...                0              0              0   \n",
       "7               0  ...                0              0              0   \n",
       "\n",
       "   Size_Grade_1U  Size_Grade_1X  Size_Grade_2L  Size_Grade_2M  Size_Grade_2S  \\\n",
       "1              0              0              0              0              0   \n",
       "7              0              0              0              1              0   \n",
       "\n",
       "   Size_Grade_2U  Size_Grade_2X  \n",
       "1              0              0  \n",
       "7              0              0  \n",
       "\n",
       "[2 rows x 33 columns]"
      ]
     },
     "execution_count": 119,
     "metadata": {},
     "output_type": "execute_result"
    }
   ],
   "source": [
    "train_withDummy.head(2)"
   ]
  },
  {
   "cell_type": "code",
   "execution_count": 120,
   "metadata": {},
   "outputs": [
    {
     "data": {
      "text/plain": [
       "(1952, 33)"
      ]
     },
     "execution_count": 120,
     "metadata": {},
     "output_type": "execute_result"
    }
   ],
   "source": [
    "train_withDummy.shape"
   ]
  },
  {
   "cell_type": "markdown",
   "metadata": {},
   "source": [
    "## Correlation and Variable Selection"
   ]
  },
  {
   "cell_type": "code",
   "execution_count": 121,
   "metadata": {},
   "outputs": [],
   "source": [
    "column_titles = [col for col in train_withDummy.columns if col!= 'avg_price_per_kg'] + ['avg_price_per_kg']\n",
    "train_withDummy=train_withDummy.reindex(columns=column_titles)"
   ]
  },
  {
   "cell_type": "code",
   "execution_count": 122,
   "metadata": {},
   "outputs": [
    {
     "data": {
      "text/html": [
       "<div>\n",
       "<style scoped>\n",
       "    .dataframe tbody tr th:only-of-type {\n",
       "        vertical-align: middle;\n",
       "    }\n",
       "\n",
       "    .dataframe tbody tr th {\n",
       "        vertical-align: top;\n",
       "    }\n",
       "\n",
       "    .dataframe thead th {\n",
       "        text-align: right;\n",
       "    }\n",
       "</style>\n",
       "<table border=\"1\" class=\"dataframe\">\n",
       "  <thead>\n",
       "    <tr style=\"text-align: right;\">\n",
       "      <th></th>\n",
       "      <th>Correlation</th>\n",
       "    </tr>\n",
       "  </thead>\n",
       "  <tbody>\n",
       "    <tr>\n",
       "      <th>avg_price_per_kg</th>\n",
       "      <td>1.000000</td>\n",
       "    </tr>\n",
       "    <tr>\n",
       "      <th>Container_M4183</th>\n",
       "      <td>0.403229</td>\n",
       "    </tr>\n",
       "    <tr>\n",
       "      <th>Province_W.CAPE-BERGRIVER ETC</th>\n",
       "      <td>0.262051</td>\n",
       "    </tr>\n",
       "    <tr>\n",
       "      <th>Size_Grade_1X</th>\n",
       "      <td>0.251451</td>\n",
       "    </tr>\n",
       "    <tr>\n",
       "      <th>Container_EC120</th>\n",
       "      <td>0.188162</td>\n",
       "    </tr>\n",
       "    <tr>\n",
       "      <th>Size_Grade_1M</th>\n",
       "      <td>0.175779</td>\n",
       "    </tr>\n",
       "    <tr>\n",
       "      <th>Container_EF120</th>\n",
       "      <td>0.114297</td>\n",
       "    </tr>\n",
       "    <tr>\n",
       "      <th>Sales_Total</th>\n",
       "      <td>0.108473</td>\n",
       "    </tr>\n",
       "    <tr>\n",
       "      <th>Stock_On_Hand</th>\n",
       "      <td>0.105028</td>\n",
       "    </tr>\n",
       "    <tr>\n",
       "      <th>Total_Qty_Sold</th>\n",
       "      <td>0.087536</td>\n",
       "    </tr>\n",
       "    <tr>\n",
       "      <th>Container_EG140</th>\n",
       "      <td>0.023753</td>\n",
       "    </tr>\n",
       "    <tr>\n",
       "      <th>Container_M6125</th>\n",
       "      <td>0.007568</td>\n",
       "    </tr>\n",
       "    <tr>\n",
       "      <th>Container_M9125</th>\n",
       "      <td>0.002812</td>\n",
       "    </tr>\n",
       "    <tr>\n",
       "      <th>Total_Kg_Sold</th>\n",
       "      <td>-0.001007</td>\n",
       "    </tr>\n",
       "    <tr>\n",
       "      <th>Province_TRANSVAAL</th>\n",
       "      <td>-0.020415</td>\n",
       "    </tr>\n",
       "    <tr>\n",
       "      <th>Province_ORANGE FREE STATE</th>\n",
       "      <td>-0.025026</td>\n",
       "    </tr>\n",
       "    <tr>\n",
       "      <th>Province_WEST COAST</th>\n",
       "      <td>-0.025122</td>\n",
       "    </tr>\n",
       "    <tr>\n",
       "      <th>Size_Grade_1U</th>\n",
       "      <td>-0.027335</td>\n",
       "    </tr>\n",
       "    <tr>\n",
       "      <th>Size_Grade_1S</th>\n",
       "      <td>-0.028506</td>\n",
       "    </tr>\n",
       "    <tr>\n",
       "      <th>Size_Grade_2X</th>\n",
       "      <td>-0.051624</td>\n",
       "    </tr>\n",
       "    <tr>\n",
       "      <th>Container_DT063</th>\n",
       "      <td>-0.059579</td>\n",
       "    </tr>\n",
       "    <tr>\n",
       "      <th>Size_Grade_2U</th>\n",
       "      <td>-0.069457</td>\n",
       "    </tr>\n",
       "    <tr>\n",
       "      <th>Size_Grade_2L</th>\n",
       "      <td>-0.089733</td>\n",
       "    </tr>\n",
       "    <tr>\n",
       "      <th>Container_JG110</th>\n",
       "      <td>-0.140148</td>\n",
       "    </tr>\n",
       "    <tr>\n",
       "      <th>Low_Price</th>\n",
       "      <td>-0.141740</td>\n",
       "    </tr>\n",
       "    <tr>\n",
       "      <th>Size_Grade_2M</th>\n",
       "      <td>-0.153372</td>\n",
       "    </tr>\n",
       "    <tr>\n",
       "      <th>High_Price</th>\n",
       "      <td>-0.164496</td>\n",
       "    </tr>\n",
       "    <tr>\n",
       "      <th>Province_EASTERN CAPE</th>\n",
       "      <td>-0.178531</td>\n",
       "    </tr>\n",
       "    <tr>\n",
       "      <th>Container_JE090</th>\n",
       "      <td>-0.322235</td>\n",
       "    </tr>\n",
       "    <tr>\n",
       "      <th>Weight_Kg</th>\n",
       "      <td>-0.337886</td>\n",
       "    </tr>\n",
       "    <tr>\n",
       "      <th>Size_Grade_2S</th>\n",
       "      <td>-0.352996</td>\n",
       "    </tr>\n",
       "    <tr>\n",
       "      <th>Container_IA400</th>\n",
       "      <td>-0.355565</td>\n",
       "    </tr>\n",
       "    <tr>\n",
       "      <th>Province_NATAL</th>\n",
       "      <td>-0.379801</td>\n",
       "    </tr>\n",
       "  </tbody>\n",
       "</table>\n",
       "</div>"
      ],
      "text/plain": [
       "                               Correlation\n",
       "avg_price_per_kg                  1.000000\n",
       "Container_M4183                   0.403229\n",
       "Province_W.CAPE-BERGRIVER ETC     0.262051\n",
       "Size_Grade_1X                     0.251451\n",
       "Container_EC120                   0.188162\n",
       "Size_Grade_1M                     0.175779\n",
       "Container_EF120                   0.114297\n",
       "Sales_Total                       0.108473\n",
       "Stock_On_Hand                     0.105028\n",
       "Total_Qty_Sold                    0.087536\n",
       "Container_EG140                   0.023753\n",
       "Container_M6125                   0.007568\n",
       "Container_M9125                   0.002812\n",
       "Total_Kg_Sold                    -0.001007\n",
       "Province_TRANSVAAL               -0.020415\n",
       "Province_ORANGE FREE STATE       -0.025026\n",
       "Province_WEST COAST              -0.025122\n",
       "Size_Grade_1U                    -0.027335\n",
       "Size_Grade_1S                    -0.028506\n",
       "Size_Grade_2X                    -0.051624\n",
       "Container_DT063                  -0.059579\n",
       "Size_Grade_2U                    -0.069457\n",
       "Size_Grade_2L                    -0.089733\n",
       "Container_JG110                  -0.140148\n",
       "Low_Price                        -0.141740\n",
       "Size_Grade_2M                    -0.153372\n",
       "High_Price                       -0.164496\n",
       "Province_EASTERN CAPE            -0.178531\n",
       "Container_JE090                  -0.322235\n",
       "Weight_Kg                        -0.337886\n",
       "Size_Grade_2S                    -0.352996\n",
       "Container_IA400                  -0.355565\n",
       "Province_NATAL                   -0.379801"
      ]
     },
     "execution_count": 122,
     "metadata": {},
     "output_type": "execute_result"
    }
   ],
   "source": [
    "# Target correlations with features\n",
    "corrs = pd.DataFrame(train_withDummy.corr()['avg_price_per_kg']).rename(columns = {'avg_price_per_kg':'Correlation'})\n",
    "corrs.sort_values(by='Correlation',ascending=False, inplace=True)\n",
    "corrs"
   ]
  },
  {
   "cell_type": "code",
   "execution_count": 123,
   "metadata": {},
   "outputs": [
    {
     "data": {
      "image/png": "[encoded data removed]",
      "text/plain": [
       "<Figure size 432x288 with 1 Axes>"
      ]
     },
     "metadata": {
      "needs_background": "light"
     },
     "output_type": "display_data"
    }
   ],
   "source": [
    "plt.scatter(train_withDummy['Total_Kg_Sold'],train_withDummy['Sales_Total'])\n",
    "plt.ylabel(\"Sales_Total\")\n",
    "plt.xlabel(\"Total_Kg_Sold\")\n",
    "plt.show()"
   ]
  },
  {
   "cell_type": "markdown",
   "metadata": {},
   "source": [
    "### Making Predictions"
   ]
  },
  {
   "cell_type": "code",
   "execution_count": 124,
   "metadata": {},
   "outputs": [],
   "source": [
    "# Function to fit data, make predictions, and evaluate model\n",
    "def rmse(y_test, y_pred):\n",
    "    return np.sqrt(mean_squared_error(y_pred,y_test))\n",
    "\n",
    "def r_squared(y_test, y_pred):\n",
    "    return r2_score(y_test, y_pred)\n",
    "    \n",
    "# Takes in a model, trains the model, and evaluates the model on the test set\n",
    "def fit_and_evaluate(model,X,y):\n",
    "    \n",
    "    X_train, X_test, y_train, y_test = train_test_split(X, y, test_size = 0.2,random_state=42)\n",
    "    # Train the model\n",
    "    model.fit(X_train, y_train)\n",
    "    \n",
    "    # Make predictions and evalute\n",
    "    train_pred = model.predict(X_train)\n",
    "    test_pred = model.predict(X_test)\n",
    "    \n",
    "    train_rmse = rmse(y_train, train_pred)\n",
    "    test_rmse = rmse(y_test, test_pred)\n",
    "    \n",
    "    train_r2 = r_squared(y_train, train_pred)\n",
    "    test_r2 = r_squared(y_test, test_pred)\n",
    "    \n",
    "    df = {'Train RMSE': train_rmse,'Train R^2':train_r2,'Test RMSE': test_rmse,'Test R^2':test_r2}\n",
    "    \n",
    "    return df"
   ]
  },
  {
   "cell_type": "code",
   "execution_count": 125,
   "metadata": {},
   "outputs": [
    {
     "data": {
      "text/plain": [
       "(1952,)"
      ]
     },
     "execution_count": 125,
     "metadata": {},
     "output_type": "execute_result"
    }
   ],
   "source": [
    "# Our model will be the same throughout, so will our y\n",
    "model = LinearRegression(n_jobs=-1)\n",
    "y = train_withDummy['avg_price_per_kg']\n",
    "y.shape"
   ]
  },
  {
   "cell_type": "code",
   "execution_count": 126,
   "metadata": {},
   "outputs": [
    {
     "data": {
      "text/plain": [
       "{'Train RMSE': 2.065617561699141,\n",
       " 'Train R^2': 0.17226587611781274,\n",
       " 'Test RMSE': 2.026090611603195,\n",
       " 'Test R^2': 0.11531344644437602}"
      ]
     },
     "execution_count": 126,
     "metadata": {},
     "output_type": "execute_result"
    }
   ],
   "source": [
    "# fit the model to the data and make predictions -Container_M4183\n",
    "X = train_withDummy['Container_M4183'].values.reshape(-1, 1)\n",
    "fit_and_evaluate(model,X,y)"
   ]
  },
  {
   "cell_type": "code",
   "execution_count": 127,
   "metadata": {},
   "outputs": [
    {
     "data": {
      "text/plain": [
       "{'Train RMSE': 1.3966967159055095,\n",
       " 'Train R^2': 0.6215615552153039,\n",
       " 'Test RMSE': 1.443006679273202,\n",
       " 'Test R^2': 0.5512459503187024}"
      ]
     },
     "execution_count": 127,
     "metadata": {},
     "output_type": "execute_result"
    }
   ],
   "source": [
    "# fit the model to the data and make predictions - all features\n",
    "X = train_withDummy.drop('avg_price_per_kg',axis=1).values  #df.drop(['B', 'C'], axis=1)\n",
    "y = train_withDummy['avg_price_per_kg']\n",
    "\n",
    "fit_and_evaluate(model,X,y)"
   ]
  },
  {
   "cell_type": "code",
   "execution_count": 128,
   "metadata": {},
   "outputs": [
    {
     "data": {
      "text/html": [
       "<div>\n",
       "<style scoped>\n",
       "    .dataframe tbody tr th:only-of-type {\n",
       "        vertical-align: middle;\n",
       "    }\n",
       "\n",
       "    .dataframe tbody tr th {\n",
       "        vertical-align: top;\n",
       "    }\n",
       "\n",
       "    .dataframe thead th {\n",
       "        text-align: right;\n",
       "    }\n",
       "</style>\n",
       "<table border=\"1\" class=\"dataframe\">\n",
       "  <thead>\n",
       "    <tr style=\"text-align: right;\">\n",
       "      <th></th>\n",
       "      <th>Weight_Kg</th>\n",
       "      <th>Low_Price</th>\n",
       "      <th>High_Price</th>\n",
       "      <th>Sales_Total</th>\n",
       "      <th>Total_Qty_Sold</th>\n",
       "      <th>Total_Kg_Sold</th>\n",
       "      <th>Stock_On_Hand</th>\n",
       "      <th>Province_EASTERN CAPE</th>\n",
       "      <th>Province_NATAL</th>\n",
       "      <th>Province_ORANGE FREE STATE</th>\n",
       "      <th>...</th>\n",
       "      <th>Size_Grade_1M</th>\n",
       "      <th>Size_Grade_1S</th>\n",
       "      <th>Size_Grade_1U</th>\n",
       "      <th>Size_Grade_1X</th>\n",
       "      <th>Size_Grade_2L</th>\n",
       "      <th>Size_Grade_2M</th>\n",
       "      <th>Size_Grade_2S</th>\n",
       "      <th>Size_Grade_2U</th>\n",
       "      <th>Size_Grade_2X</th>\n",
       "      <th>avg_price_per_kg</th>\n",
       "    </tr>\n",
       "  </thead>\n",
       "  <tbody>\n",
       "    <tr>\n",
       "      <th>1</th>\n",
       "      <td>18.3</td>\n",
       "      <td>150.0</td>\n",
       "      <td>170.0</td>\n",
       "      <td>51710.0</td>\n",
       "      <td>332</td>\n",
       "      <td>6075.6</td>\n",
       "      <td>822</td>\n",
       "      <td>0</td>\n",
       "      <td>0</td>\n",
       "      <td>0</td>\n",
       "      <td>...</td>\n",
       "      <td>0</td>\n",
       "      <td>0</td>\n",
       "      <td>0</td>\n",
       "      <td>0</td>\n",
       "      <td>0</td>\n",
       "      <td>0</td>\n",
       "      <td>0</td>\n",
       "      <td>0</td>\n",
       "      <td>0</td>\n",
       "      <td>8.51</td>\n",
       "    </tr>\n",
       "    <tr>\n",
       "      <th>7</th>\n",
       "      <td>11.0</td>\n",
       "      <td>50.0</td>\n",
       "      <td>50.0</td>\n",
       "      <td>16000.0</td>\n",
       "      <td>320</td>\n",
       "      <td>3520.0</td>\n",
       "      <td>0</td>\n",
       "      <td>0</td>\n",
       "      <td>0</td>\n",
       "      <td>0</td>\n",
       "      <td>...</td>\n",
       "      <td>0</td>\n",
       "      <td>0</td>\n",
       "      <td>0</td>\n",
       "      <td>0</td>\n",
       "      <td>0</td>\n",
       "      <td>1</td>\n",
       "      <td>0</td>\n",
       "      <td>0</td>\n",
       "      <td>0</td>\n",
       "      <td>4.55</td>\n",
       "    </tr>\n",
       "  </tbody>\n",
       "</table>\n",
       "<p>2 rows × 33 columns</p>\n",
       "</div>"
      ],
      "text/plain": [
       "   Weight_Kg  Low_Price  High_Price  Sales_Total  Total_Qty_Sold  \\\n",
       "1       18.3      150.0       170.0      51710.0             332   \n",
       "7       11.0       50.0        50.0      16000.0             320   \n",
       "\n",
       "   Total_Kg_Sold  Stock_On_Hand  Province_EASTERN CAPE  Province_NATAL  \\\n",
       "1         6075.6            822                      0               0   \n",
       "7         3520.0              0                      0               0   \n",
       "\n",
       "   Province_ORANGE FREE STATE  ...  Size_Grade_1M  Size_Grade_1S  \\\n",
       "1                           0  ...              0              0   \n",
       "7                           0  ...              0              0   \n",
       "\n",
       "   Size_Grade_1U  Size_Grade_1X  Size_Grade_2L  Size_Grade_2M  Size_Grade_2S  \\\n",
       "1              0              0              0              0              0   \n",
       "7              0              0              0              1              0   \n",
       "\n",
       "   Size_Grade_2U  Size_Grade_2X  avg_price_per_kg  \n",
       "1              0              0              8.51  \n",
       "7              0              0              4.55  \n",
       "\n",
       "[2 rows x 33 columns]"
      ]
     },
     "execution_count": 128,
     "metadata": {},
     "output_type": "execute_result"
    }
   ],
   "source": [
    " train_withDummy.head(2)"
   ]
  },
  {
   "cell_type": "markdown",
   "metadata": {},
   "source": [
    "## Predicting on the test set"
   ]
  },
  {
   "cell_type": "markdown",
   "metadata": {},
   "source": [
    "### Preprocessing"
   ]
  },
  {
   "cell_type": "code",
   "execution_count": 129,
   "metadata": {},
   "outputs": [
    {
     "data": {
      "text/plain": [
       "((1952, 33), (685, 12))"
      ]
     },
     "execution_count": 129,
     "metadata": {},
     "output_type": "execute_result"
    }
   ],
   "source": [
    " train_withDummy.shape,df_test.shape"
   ]
  },
  {
   "cell_type": "code",
   "execution_count": 130,
   "metadata": {},
   "outputs": [],
   "source": [
    "test.drop(['Commodities','Date'], axis=1, inplace=True) #df.drop(['B', 'C'], axis=1)"
   ]
  },
  {
   "cell_type": "code",
   "execution_count": 131,
   "metadata": {},
   "outputs": [],
   "source": [
    "test_withDummy=dummy_encode_titles(test)"
   ]
  },
  {
   "cell_type": "code",
   "execution_count": 132,
   "metadata": {},
   "outputs": [
    {
     "data": {
      "text/html": [
       "<div>\n",
       "<style scoped>\n",
       "    .dataframe tbody tr th:only-of-type {\n",
       "        vertical-align: middle;\n",
       "    }\n",
       "\n",
       "    .dataframe tbody tr th {\n",
       "        vertical-align: top;\n",
       "    }\n",
       "\n",
       "    .dataframe thead th {\n",
       "        text-align: right;\n",
       "    }\n",
       "</style>\n",
       "<table border=\"1\" class=\"dataframe\">\n",
       "  <thead>\n",
       "    <tr style=\"text-align: right;\">\n",
       "      <th></th>\n",
       "      <th>Weight_Kg</th>\n",
       "      <th>Low_Price</th>\n",
       "      <th>High_Price</th>\n",
       "      <th>Sales_Total</th>\n",
       "      <th>Total_Qty_Sold</th>\n",
       "      <th>Total_Kg_Sold</th>\n",
       "      <th>Stock_On_Hand</th>\n",
       "      <th>Province_EASTERN CAPE</th>\n",
       "      <th>Province_NATAL</th>\n",
       "      <th>Province_ORANGE FREE STATE</th>\n",
       "      <th>...</th>\n",
       "      <th>Container_M9125</th>\n",
       "      <th>Size_Grade_1M</th>\n",
       "      <th>Size_Grade_1S</th>\n",
       "      <th>Size_Grade_1U</th>\n",
       "      <th>Size_Grade_1X</th>\n",
       "      <th>Size_Grade_2L</th>\n",
       "      <th>Size_Grade_2M</th>\n",
       "      <th>Size_Grade_2S</th>\n",
       "      <th>Size_Grade_2U</th>\n",
       "      <th>Size_Grade_2X</th>\n",
       "    </tr>\n",
       "  </thead>\n",
       "  <tbody>\n",
       "    <tr>\n",
       "      <th>0</th>\n",
       "      <td>12.0</td>\n",
       "      <td>128.0</td>\n",
       "      <td>136.0</td>\n",
       "      <td>5008.0</td>\n",
       "      <td>38</td>\n",
       "      <td>456.0</td>\n",
       "      <td>0</td>\n",
       "      <td>0</td>\n",
       "      <td>0</td>\n",
       "      <td>0</td>\n",
       "      <td>...</td>\n",
       "      <td>0</td>\n",
       "      <td>1</td>\n",
       "      <td>0</td>\n",
       "      <td>0</td>\n",
       "      <td>0</td>\n",
       "      <td>0</td>\n",
       "      <td>0</td>\n",
       "      <td>0</td>\n",
       "      <td>0</td>\n",
       "      <td>0</td>\n",
       "    </tr>\n",
       "    <tr>\n",
       "      <th>1</th>\n",
       "      <td>18.3</td>\n",
       "      <td>220.0</td>\n",
       "      <td>220.0</td>\n",
       "      <td>1760.0</td>\n",
       "      <td>8</td>\n",
       "      <td>146.4</td>\n",
       "      <td>2</td>\n",
       "      <td>0</td>\n",
       "      <td>0</td>\n",
       "      <td>0</td>\n",
       "      <td>...</td>\n",
       "      <td>0</td>\n",
       "      <td>0</td>\n",
       "      <td>0</td>\n",
       "      <td>0</td>\n",
       "      <td>1</td>\n",
       "      <td>0</td>\n",
       "      <td>0</td>\n",
       "      <td>0</td>\n",
       "      <td>0</td>\n",
       "      <td>0</td>\n",
       "    </tr>\n",
       "  </tbody>\n",
       "</table>\n",
       "<p>2 rows × 32 columns</p>\n",
       "</div>"
      ],
      "text/plain": [
       "   Weight_Kg  Low_Price  High_Price  Sales_Total  Total_Qty_Sold  \\\n",
       "0       12.0      128.0       136.0       5008.0              38   \n",
       "1       18.3      220.0       220.0       1760.0               8   \n",
       "\n",
       "   Total_Kg_Sold  Stock_On_Hand  Province_EASTERN CAPE  Province_NATAL  \\\n",
       "0          456.0              0                      0               0   \n",
       "1          146.4              2                      0               0   \n",
       "\n",
       "   Province_ORANGE FREE STATE  ...  Container_M9125  Size_Grade_1M  \\\n",
       "0                           0  ...                0              1   \n",
       "1                           0  ...                0              0   \n",
       "\n",
       "   Size_Grade_1S  Size_Grade_1U  Size_Grade_1X  Size_Grade_2L  Size_Grade_2M  \\\n",
       "0              0              0              0              0              0   \n",
       "1              0              0              1              0              0   \n",
       "\n",
       "   Size_Grade_2S  Size_Grade_2U  Size_Grade_2X  \n",
       "0              0              0              0  \n",
       "1              0              0              0  \n",
       "\n",
       "[2 rows x 32 columns]"
      ]
     },
     "execution_count": 132,
     "metadata": {},
     "output_type": "execute_result"
    }
   ],
   "source": [
    "test_withDummy.head(2)"
   ]
  },
  {
   "cell_type": "code",
   "execution_count": 133,
   "metadata": {},
   "outputs": [
    {
     "name": "stdout",
     "output_type": "stream",
     "text": [
      "<class 'pandas.core.frame.DataFrame'>\n",
      "Int64Index: 685 entries, 0 to 684\n",
      "Data columns (total 32 columns):\n",
      " #   Column                         Non-Null Count  Dtype  \n",
      "---  ------                         --------------  -----  \n",
      " 0   Weight_Kg                      685 non-null    float64\n",
      " 1   Low_Price                      685 non-null    float64\n",
      " 2   High_Price                     685 non-null    float64\n",
      " 3   Sales_Total                    685 non-null    float64\n",
      " 4   Total_Qty_Sold                 685 non-null    int64  \n",
      " 5   Total_Kg_Sold                  685 non-null    float64\n",
      " 6   Stock_On_Hand                  685 non-null    int64  \n",
      " 7   Province_EASTERN CAPE          685 non-null    uint8  \n",
      " 8   Province_NATAL                 685 non-null    uint8  \n",
      " 9   Province_ORANGE FREE STATE     685 non-null    uint8  \n",
      " 10  Province_TRANSVAAL             685 non-null    uint8  \n",
      " 11  Province_W.CAPE-BERGRIVER ETC  685 non-null    uint8  \n",
      " 12  Province_WEST COAST            685 non-null    uint8  \n",
      " 13  Container_DT063                685 non-null    uint8  \n",
      " 14  Container_EC120                685 non-null    uint8  \n",
      " 15  Container_EF120                685 non-null    uint8  \n",
      " 16  Container_EG140                685 non-null    uint8  \n",
      " 17  Container_IA400                685 non-null    uint8  \n",
      " 18  Container_JE090                685 non-null    uint8  \n",
      " 19  Container_JG110                685 non-null    uint8  \n",
      " 20  Container_M4183                685 non-null    uint8  \n",
      " 21  Container_M6125                685 non-null    uint8  \n",
      " 22  Container_M9125                685 non-null    uint8  \n",
      " 23  Size_Grade_1M                  685 non-null    uint8  \n",
      " 24  Size_Grade_1S                  685 non-null    uint8  \n",
      " 25  Size_Grade_1U                  685 non-null    uint8  \n",
      " 26  Size_Grade_1X                  685 non-null    uint8  \n",
      " 27  Size_Grade_2L                  685 non-null    uint8  \n",
      " 28  Size_Grade_2M                  685 non-null    uint8  \n",
      " 29  Size_Grade_2S                  685 non-null    uint8  \n",
      " 30  Size_Grade_2U                  685 non-null    uint8  \n",
      " 31  Size_Grade_2X                  685 non-null    uint8  \n",
      "dtypes: float64(5), int64(2), uint8(25)\n",
      "memory usage: 59.5 KB\n"
     ]
    }
   ],
   "source": [
    "#check missing values\n",
    "test_withDummy.info()"
   ]
  },
  {
   "cell_type": "markdown",
   "metadata": {},
   "source": [
    "### Making predictions"
   ]
  },
  {
   "cell_type": "code",
   "execution_count": 134,
   "metadata": {},
   "outputs": [],
   "source": [
    "preds = model.predict(test_withDummy)"
   ]
  },
  {
   "cell_type": "code",
   "execution_count": 135,
   "metadata": {},
   "outputs": [
    {
     "data": {
      "text/plain": [
       "array([ 8.79713633,  9.13176344,  8.26845318,  8.03636658,  8.4938694 ,\n",
       "        5.35024611,  5.36630695,  7.83973058,  8.85010634,  9.01953286,\n",
       "        6.63552702,  6.65276073,  8.64555173,  5.26436706,  3.13751913,\n",
       "        6.8547154 ,  7.6953196 ,  5.13600176,  9.40025777,  6.1908324 ,\n",
       "        5.38154645,  4.91263346,  6.2871737 ,  6.67128767,  4.99927293,\n",
       "        6.63841359,  7.65184318,  8.32683569,  8.56159956,  7.75226776,\n",
       "        8.88538432,  5.08032918,  9.20810493,  7.61826805,  4.05074493,\n",
       "        8.6749488 ,  8.36005633,  9.58002883,  5.92805409,  6.64857412,\n",
       "        8.81875025,  8.53770697,  8.81302407,  5.10042403,  6.13263507,\n",
       "        6.35585489,  4.18812905,  6.50801852,  6.08632382,  2.82957659,\n",
       "        0.58919172,  5.09562489,  8.92322398,  8.70542768,  7.89046302,\n",
       "        7.03368291,  8.32740517,  9.26702676,  9.03373091,  8.30975877,\n",
       "        8.94788451,  9.59150056,  4.71814392,  8.11199661,  7.83290014,\n",
       "        5.79057093,  5.10341916,  4.86529097,  6.52547078,  6.42383278,\n",
       "        7.55174545,  6.44683926,  6.48959542,  6.31084056,  5.9389903 ,\n",
       "        5.64056432,  5.69874417,  9.40906966,  8.58240607,  6.28788355,\n",
       "        8.6195959 ,  5.46696423,  5.83799525,  6.11039392,  3.75721006,\n",
       "        5.52184734,  7.645245  ,  9.94909652,  4.05288624,  6.1575865 ,\n",
       "        8.44503895,  9.08818416,  7.81068703,  5.68226498,  6.64162589,\n",
       "        6.05030605,  7.85416822,  8.67689782,  4.68069395,  6.5830082 ,\n",
       "        7.83786537,  6.63145517,  4.6459312 ,  7.99669597,  7.30149996,\n",
       "        8.37258678,  8.66034257,  5.80362577,  7.92514655,  5.22970174,\n",
       "        5.23341439,  5.12947587,  5.47075325,  6.13553433,  7.44013927,\n",
       "        8.26766582,  6.20307543,  8.81835577,  5.74056459,  7.35995657,\n",
       "        5.25718894,  6.1802676 ,  8.30825953,  5.4558507 ,  8.73342955,\n",
       "        7.36835573,  5.68181396,  8.2654777 ,  8.4757469 ,  6.9870118 ,\n",
       "        7.77457998,  6.65795607,  9.24735631,  8.31576063,  0.53390412,\n",
       "        6.63342743,  5.72034127,  8.91237305,  7.98370705,  5.87913561,\n",
       "        8.33532701,  6.10841582,  8.31209929,  5.02133024,  8.67748447,\n",
       "        6.28658136,  6.20260152,  8.89202198,  7.54193335,  8.38511733,\n",
       "        8.31302091,  8.20129408,  5.87225888,  8.21192117,  7.94854341,\n",
       "        9.00491811,  6.95807054,  5.59650853,  7.13895534,  6.12785318,\n",
       "        8.68442139,  8.81634909,  7.288346  ,  9.29834378,  8.02630622,\n",
       "        8.65769073,  5.12090024,  7.49661556,  6.97068041,  7.56539112,\n",
       "        8.93704034,  8.55237089,  6.63135352,  8.75888228,  4.71991135,\n",
       "        4.40919675,  8.6786456 ,  6.08863788,  6.08419393,  6.11236448,\n",
       "        6.46738819, -1.81205159,  9.41175929,  8.15286735,  6.55441558,\n",
       "       -1.95297658,  5.15703729,  8.07774135,  7.53276967,  7.65802799,\n",
       "        6.25297204,  8.80108548,  5.82728599,  3.07992532,  8.31136763,\n",
       "       10.90912532,  6.35991686,  4.66078129,  5.76383051,  7.97033624,\n",
       "        5.12903331,  3.86449538,  7.76422649,  3.7870649 ,  6.66834336,\n",
       "        4.71982805,  8.25975119,  6.67128767,  6.98526414,  8.3865036 ,\n",
       "        7.63337992,  9.49912188,  6.23935871,  8.46787292,  8.7179256 ,\n",
       "        6.65034776,  6.26076752,  6.61416484,  6.0088342 ,  8.237874  ,\n",
       "        4.66679432,  5.04523989,  8.4196179 ,  9.17461433,  9.2605987 ,\n",
       "        5.40186017,  5.80477071,  5.33728006,  6.33845183,  6.25282249,\n",
       "        6.19667534,  8.61514691,  8.01508146,  5.41990856,  5.92199763,\n",
       "        5.93971462,  9.22886053,  8.40918898,  5.40342553,  6.07604258,\n",
       "        6.01203025,  6.23550921,  7.61418437,  8.67753919,  8.11810784,\n",
       "        6.66837489,  3.5521155 ,  7.01112385,  6.21027363,  8.87769096,\n",
       "        8.60116298,  9.03568381,  6.08711543,  7.67872022,  6.31776099,\n",
       "        5.11684172,  8.59862139,  8.09237088,  8.12556464,  8.05045633,\n",
       "        6.00946429,  8.2831042 ,  6.39704841,  6.13744293,  3.896585  ,\n",
       "        6.78473844,  4.69016171,  5.87008522,  6.25476989,  6.65670377,\n",
       "        8.75188519,  6.28140032,  9.08695143,  3.23545147,  8.58063536,\n",
       "        8.56059989,  6.02918343,  6.6669929 ,  5.1857756 ,  7.88320766,\n",
       "        6.97590681,  6.47041335,  5.64613945,  3.53238569,  7.78080637,\n",
       "        3.99824125,  6.07971417,  5.98291589,  7.45898538,  9.42003355,\n",
       "        5.72337194,  5.59470838,  6.02940157,  2.28142492,  7.61944001,\n",
       "        8.29384199,  8.77295969,  8.58639959,  7.68831802,  5.34060554,\n",
       "        6.28431823,  4.73567597,  5.01073588,  6.75274124,  8.63746369,\n",
       "        8.70654806,  6.08796696,  4.02767863,  8.11167915,  5.35987718,\n",
       "        7.13958677,  7.43196812,  5.9655428 ,  8.42868438,  8.28562851,\n",
       "        7.3533514 ,  5.87376884,  6.55123308,  6.22023591,  6.17648069,\n",
       "        6.59275605,  5.53759687,  5.84330646,  7.74864864,  5.83736472,\n",
       "        5.4300908 ,  8.01385209,  6.64709982,  8.8078083 ,  7.5726409 ,\n",
       "        6.65638629,  5.19828903,  7.73366077,  6.99325714,  7.6685443 ,\n",
       "        7.98871448,  8.22741254,  4.73978424,  8.62784147,  4.41729774,\n",
       "        7.48180454,  6.63465788,  9.02376703,  6.23631231,  8.65220591,\n",
       "        8.16087395,  8.81523791,  5.4552816 ,  7.78446224,  8.38514725,\n",
       "        7.70150377,  8.6490341 ,  7.65371168,  8.23128267,  8.59516712,\n",
       "        6.53437012,  6.09083763,  8.68634484,  8.73880692,  7.33675728,\n",
       "        8.47030801,  6.60275296,  8.62675058,  8.73980909,  7.85727588,\n",
       "        6.72073347,  7.99087631,  8.02612143,  7.58702311,  7.91615318,\n",
       "        5.82343404,  5.09857794,  6.78102308,  8.49697877,  5.31448059,\n",
       "        7.50419993,  5.34222708,  5.42890587,  7.65371168,  4.70717137,\n",
       "        7.73338355,  7.23883211,  7.11840471,  7.32223442,  6.34828464,\n",
       "        7.57887013,  5.34199651,  7.88172808,  6.06144681,  8.1873302 ,\n",
       "        8.37788473,  6.6417111 ,  9.64249749,  6.332402  ,  1.32183765,\n",
       "        7.85469252,  5.74411058,  7.03055335,  7.66630508,  6.94456064,\n",
       "        6.34208459,  4.97051663,  8.92865851,  6.04546336,  5.52950624,\n",
       "        8.05380107,  6.05997008,  6.78415827,  3.98368538,  8.434423  ,\n",
       "        8.77079633,  6.13553433,  6.16619906,  7.69058068,  7.09600859,\n",
       "        6.23084731,  7.69563022,  6.15480764,  8.66895702,  4.94924411,\n",
       "        7.70640376,  4.55571788,  7.38082004,  5.40504098,  6.56371696,\n",
       "        6.35415634,  8.00342181,  6.68058648,  7.4953428 ,  6.83331172,\n",
       "        8.66938289,  6.83913483,  7.90108163,  8.90154696,  6.16811272,\n",
       "        7.9347715 ,  5.4099204 ,  6.6242015 ,  5.8713984 ,  6.64683589,\n",
       "        9.01254179,  8.11465721,  8.69530597,  8.797554  ,  8.95671975,\n",
       "        8.14274529,  5.5854356 ,  7.54515182,  8.39617333,  8.47286683,\n",
       "        8.27738554,  6.14643855,  8.09382961,  6.82233568,  7.61270991,\n",
       "        8.34203676,  8.39621417,  8.60425284,  3.93686952,  7.19903361,\n",
       "        4.9028081 ,  8.32934448,  5.282693  ,  4.18723415,  8.4414991 ,\n",
       "        4.66554054,  4.33235944,  8.34556322,  5.27101205,  8.41207563,\n",
       "        7.32852969,  8.79214263,  6.04251164,  5.49512921,  4.17454338,\n",
       "        8.10816122,  8.78323899,  5.52745239,  6.33871321,  6.26684239,\n",
       "        5.46447853,  8.00669651,  8.52103197,  6.28040053,  9.00022094,\n",
       "        7.84633289,  9.00652099,  6.73168246,  8.38086932,  5.52756439,\n",
       "        4.66211038,  6.57010614,  6.46939803,  8.25168191,  9.21719675,\n",
       "        6.58885753,  6.05513936,  8.28493499,  8.24553205,  7.83373331,\n",
       "        8.6843606 ,  5.88708465,  8.33363613,  8.3740808 ,  8.43323731,\n",
       "        8.28365008,  7.9881619 ,  5.09805433,  8.25704208,  6.16210635,\n",
       "        8.37258678,  6.99116886,  6.28105557,  6.01203025,  8.36877841,\n",
       "        9.00118552,  8.78492532,  6.38170664,  7.52312335,  6.15830923,\n",
       "        8.37261295,  6.82660192,  6.85471523,  5.05386146,  7.68696414,\n",
       "        6.76464958,  8.01508146,  3.86830453,  3.93686952,  8.46418613,\n",
       "        8.67059518,  5.922122  ,  8.61651241,  8.8142013 ,  8.81296059,\n",
       "        8.37258678,  7.27593446,  7.03851158,  5.13857529,  7.82174308,\n",
       "        8.31548299,  4.78211067,  7.84459815,  8.86614086,  6.96403402,\n",
       "        4.9404387 ,  8.76119878,  5.95897544,  8.45426226,  7.45896007,\n",
       "        4.88847417,  6.25184695,  6.24925459,  5.23764066,  6.13695688,\n",
       "        3.42542823,  8.74233835,  8.44048795,  4.29798288,  5.85265203,\n",
       "        9.25820355,  4.60312871,  4.95212861,  5.05303805,  7.73384786,\n",
       "        4.39348049,  8.24473013,  5.12903331,  8.38204509,  8.71802291,\n",
       "        3.99824125,  5.92473686,  8.63166118,  8.21653872,  6.60616865,\n",
       "        5.84544462,  6.16481943,  5.89531065,  7.64779544,  8.1231479 ,\n",
       "        6.25317817,  7.37379397,  5.69830823,  7.64058288,  7.39697382,\n",
       "        7.28251879,  7.07188127,  9.13461033,  6.50768989,  6.16456993,\n",
       "        9.04250491,  6.84024312,  5.66168271,  5.36255728,  8.4356205 ,\n",
       "        6.36725751,  6.44315767,  5.93280119,  7.03887477,  3.26209591,\n",
       "        7.21364421,  6.31592776,  9.13979316,  5.94971202,  8.53281917,\n",
       "        3.80174173,  8.33066998,  3.13250313,  8.45874233,  8.63676276,\n",
       "        8.63376594,  8.39897476,  7.65024009,  5.67595076,  8.65952132,\n",
       "        6.06443873,  6.1310059 ,  8.35978979,  4.34097171,  8.86189634,\n",
       "        8.10882749,  9.22791954,  8.13999974,  5.27886777,  6.50294796,\n",
       "        8.81302407,  6.27892335,  5.3490847 ,  7.72366426,  7.5558323 ,\n",
       "        5.04024354,  6.61545814,  5.28775912,  5.9318055 ,  5.71782732,\n",
       "        6.14365597,  8.85995059,  6.04426692,  4.16293318,  5.78348989,\n",
       "        5.59726887,  5.39418511,  9.00022094,  4.94323954,  7.91748975,\n",
       "        4.50981534,  7.5740933 ,  5.40526189,  9.12295672,  8.45295977,\n",
       "        5.632595  ,  7.40737398,  6.17683597,  8.00464675,  5.05338884,\n",
       "        7.99087631,  6.39488893,  5.15875276,  7.27041599,  8.2842127 ,\n",
       "        5.56901237,  6.30050073,  5.86384445,  3.94806474,  8.90097256,\n",
       "        7.28857803,  8.26824881,  4.4117134 ,  9.58002883,  6.63576261,\n",
       "        9.00561443,  5.88468856,  4.72418837,  6.3276062 , 10.92719658,\n",
       "        8.32115044,  2.79383275,  8.01282107,  7.53023016,  6.11880066,\n",
       "        6.00062593,  8.35462091,  6.0018455 ,  7.43026951,  7.90864034])"
      ]
     },
     "execution_count": 135,
     "metadata": {},
     "output_type": "execute_result"
    }
   ],
   "source": [
    "preds"
   ]
  },
  {
   "cell_type": "markdown",
   "metadata": {},
   "source": [
    "### Submission"
   ]
  },
  {
   "cell_type": "code",
   "execution_count": 136,
   "metadata": {},
   "outputs": [],
   "source": [
    "# create submission dataframe\n",
    "\n",
    "submission = pd.DataFrame(\n",
    "    {'Index': test_ID,\n",
    "     'avg_price_per_kg': preds\n",
    "    })"
   ]
  },
  {
   "cell_type": "code",
   "execution_count": 137,
   "metadata": {},
   "outputs": [
    {
     "data": {
      "text/html": [
       "<div>\n",
       "<style scoped>\n",
       "    .dataframe tbody tr th:only-of-type {\n",
       "        vertical-align: middle;\n",
       "    }\n",
       "\n",
       "    .dataframe tbody tr th {\n",
       "        vertical-align: top;\n",
       "    }\n",
       "\n",
       "    .dataframe thead th {\n",
       "        text-align: right;\n",
       "    }\n",
       "</style>\n",
       "<table border=\"1\" class=\"dataframe\">\n",
       "  <thead>\n",
       "    <tr style=\"text-align: right;\">\n",
       "      <th></th>\n",
       "      <th>Index</th>\n",
       "      <th>avg_price_per_kg</th>\n",
       "    </tr>\n",
       "  </thead>\n",
       "  <tbody>\n",
       "    <tr>\n",
       "      <th>0</th>\n",
       "      <td>1</td>\n",
       "      <td>8.797136</td>\n",
       "    </tr>\n",
       "    <tr>\n",
       "      <th>1</th>\n",
       "      <td>2</td>\n",
       "      <td>9.131763</td>\n",
       "    </tr>\n",
       "    <tr>\n",
       "      <th>2</th>\n",
       "      <td>3</td>\n",
       "      <td>8.268453</td>\n",
       "    </tr>\n",
       "    <tr>\n",
       "      <th>3</th>\n",
       "      <td>4</td>\n",
       "      <td>8.036367</td>\n",
       "    </tr>\n",
       "    <tr>\n",
       "      <th>4</th>\n",
       "      <td>5</td>\n",
       "      <td>8.493869</td>\n",
       "    </tr>\n",
       "    <tr>\n",
       "      <th>...</th>\n",
       "      <td>...</td>\n",
       "      <td>...</td>\n",
       "    </tr>\n",
       "    <tr>\n",
       "      <th>680</th>\n",
       "      <td>681</td>\n",
       "      <td>6.000626</td>\n",
       "    </tr>\n",
       "    <tr>\n",
       "      <th>681</th>\n",
       "      <td>682</td>\n",
       "      <td>8.354621</td>\n",
       "    </tr>\n",
       "    <tr>\n",
       "      <th>682</th>\n",
       "      <td>683</td>\n",
       "      <td>6.001845</td>\n",
       "    </tr>\n",
       "    <tr>\n",
       "      <th>683</th>\n",
       "      <td>684</td>\n",
       "      <td>7.430270</td>\n",
       "    </tr>\n",
       "    <tr>\n",
       "      <th>684</th>\n",
       "      <td>685</td>\n",
       "      <td>7.908640</td>\n",
       "    </tr>\n",
       "  </tbody>\n",
       "</table>\n",
       "<p>685 rows × 2 columns</p>\n",
       "</div>"
      ],
      "text/plain": [
       "     Index  avg_price_per_kg\n",
       "0        1          8.797136\n",
       "1        2          9.131763\n",
       "2        3          8.268453\n",
       "3        4          8.036367\n",
       "4        5          8.493869\n",
       "..     ...               ...\n",
       "680    681          6.000626\n",
       "681    682          8.354621\n",
       "682    683          6.001845\n",
       "683    684          7.430270\n",
       "684    685          7.908640\n",
       "\n",
       "[685 rows x 2 columns]"
      ]
     },
     "execution_count": 137,
     "metadata": {},
     "output_type": "execute_result"
    }
   ],
   "source": [
    "submission"
   ]
  },
  {
   "cell_type": "code",
   "execution_count": 138,
   "metadata": {},
   "outputs": [],
   "source": [
    "# save DataFrame to csv file for submission\n",
    "submission.to_csv(\"ZM2_theFirst.csv\", index=False)"
   ]
  },
  {
   "cell_type": "code",
   "execution_count": null,
   "metadata": {},
   "outputs": [],
   "source": []
  }
 ],
 "metadata": {
  "kernelspec": {
   "display_name": "Python 3",
   "language": "python",
   "name": "python3"
  },
  "language_info": {
   "codemirror_mode": {
    "name": "ipython",
    "version": 3
   },
   "file_extension": ".py",
   "mimetype": "text/x-python",
   "name": "python",
   "nbconvert_exporter": "python",
   "pygments_lexer": "ipython3",
   "version": "3.8.5"
  }
 },
 "nbformat": 4,
 "nbformat_minor": 4
}
