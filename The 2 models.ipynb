{
 "cells": [
  {
   "cell_type": "code",
   "execution_count": 6,
   "metadata": {},
   "outputs": [],
   "source": [
    "# Regression and xgboost models\n",
    "from sklearn.linear_model import LinearRegression\n",
    "import xgboost as xgb\n",
    "# Model slection\n",
    "from sklearn.model_selection import train_test_split\n",
    "from sklearn.metrics import mean_squared_error\n",
    "from sklearn.ensemble import RandomForestRegressor"
   ]
  },
  {
   "cell_type": "code",
   "execution_count": 7,
   "metadata": {},
   "outputs": [],
   "source": [
    "import numpy as np\n",
    "import pandas as pd"
   ]
  },
  {
   "cell_type": "markdown",
   "metadata": {},
   "source": [
    "# Preprocessing"
   ]
  },
  {
   "cell_type": "markdown",
   "metadata": {},
   "source": [
    "Import data from Github - (train & test data)"
   ]
  },
  {
   "cell_type": "code",
   "execution_count": 8,
   "metadata": {},
   "outputs": [],
   "source": [
    "# import the data\n",
    "df_train = pd.read_csv('https://raw.githubusercontent.com/ShaniPillay/regression-apples-predict-api-template/main/utils/data/train_data.csv')\n",
    "df_test = pd.read_csv('https://raw.githubusercontent.com/ShaniPillay/regression-apples-predict-api-template/main/utils/data/test_data.csv')\n"
   ]
  },
  {
   "cell_type": "markdown",
   "metadata": {},
   "source": [
    "Convert `Date` to datetime datatype"
   ]
  },
  {
   "cell_type": "code",
   "execution_count": 9,
   "metadata": {},
   "outputs": [],
   "source": [
    "df_train['Date']= pd.to_datetime(df_train['Date'],format='%Y-%m-%d')\n",
    "df_test['Date']= pd.to_datetime(df_test['Date'],format='%Y-%m-%d')"
   ]
  },
  {
   "cell_type": "code",
   "execution_count": 10,
   "metadata": {},
   "outputs": [
    {
     "data": {
      "text/html": [
       "<div>\n",
       "<style scoped>\n",
       "    .dataframe tbody tr th:only-of-type {\n",
       "        vertical-align: middle;\n",
       "    }\n",
       "\n",
       "    .dataframe tbody tr th {\n",
       "        vertical-align: top;\n",
       "    }\n",
       "\n",
       "    .dataframe thead th {\n",
       "        text-align: right;\n",
       "    }\n",
       "</style>\n",
       "<table border=\"1\" class=\"dataframe\">\n",
       "  <thead>\n",
       "    <tr style=\"text-align: right;\">\n",
       "      <th></th>\n",
       "      <th>Province</th>\n",
       "      <th>Container</th>\n",
       "      <th>Size_Grade</th>\n",
       "      <th>Weight_Kg</th>\n",
       "      <th>Commodities</th>\n",
       "      <th>Date</th>\n",
       "      <th>Low_Price</th>\n",
       "      <th>High_Price</th>\n",
       "      <th>Sales_Total</th>\n",
       "      <th>Total_Qty_Sold</th>\n",
       "      <th>Total_Kg_Sold</th>\n",
       "      <th>Stock_On_Hand</th>\n",
       "      <th>avg_price_per_kg</th>\n",
       "    </tr>\n",
       "  </thead>\n",
       "  <tbody>\n",
       "    <tr>\n",
       "      <th>0</th>\n",
       "      <td>CAPE</td>\n",
       "      <td>EC120</td>\n",
       "      <td>1L</td>\n",
       "      <td>12.0</td>\n",
       "      <td>APPLE GRANNY SMITH</td>\n",
       "      <td>2020-03-10</td>\n",
       "      <td>108.0</td>\n",
       "      <td>112.0</td>\n",
       "      <td>3236.0</td>\n",
       "      <td>29</td>\n",
       "      <td>348.0</td>\n",
       "      <td>0</td>\n",
       "      <td>9.3</td>\n",
       "    </tr>\n",
       "  </tbody>\n",
       "</table>\n",
       "</div>"
      ],
      "text/plain": [
       "  Province Container Size_Grade  Weight_Kg         Commodities       Date  \\\n",
       "0     CAPE     EC120         1L       12.0  APPLE GRANNY SMITH 2020-03-10   \n",
       "\n",
       "   Low_Price  High_Price  Sales_Total  Total_Qty_Sold  Total_Kg_Sold  \\\n",
       "0      108.0       112.0       3236.0              29          348.0   \n",
       "\n",
       "   Stock_On_Hand  avg_price_per_kg  \n",
       "0              0               9.3  "
      ]
     },
     "execution_count": 10,
     "metadata": {},
     "output_type": "execute_result"
    }
   ],
   "source": [
    "df_train.head(1)"
   ]
  },
  {
   "cell_type": "code",
   "execution_count": 11,
   "metadata": {},
   "outputs": [
    {
     "data": {
      "text/html": [
       "<div>\n",
       "<style scoped>\n",
       "    .dataframe tbody tr th:only-of-type {\n",
       "        vertical-align: middle;\n",
       "    }\n",
       "\n",
       "    .dataframe tbody tr th {\n",
       "        vertical-align: top;\n",
       "    }\n",
       "\n",
       "    .dataframe thead th {\n",
       "        text-align: right;\n",
       "    }\n",
       "</style>\n",
       "<table border=\"1\" class=\"dataframe\">\n",
       "  <thead>\n",
       "    <tr style=\"text-align: right;\">\n",
       "      <th></th>\n",
       "      <th>Index</th>\n",
       "      <th>Province</th>\n",
       "      <th>Container</th>\n",
       "      <th>Size_Grade</th>\n",
       "      <th>Weight_Kg</th>\n",
       "      <th>Commodities</th>\n",
       "      <th>Date</th>\n",
       "      <th>Low_Price</th>\n",
       "      <th>High_Price</th>\n",
       "      <th>Sales_Total</th>\n",
       "      <th>Total_Qty_Sold</th>\n",
       "      <th>Total_Kg_Sold</th>\n",
       "      <th>Stock_On_Hand</th>\n",
       "    </tr>\n",
       "  </thead>\n",
       "  <tbody>\n",
       "    <tr>\n",
       "      <th>0</th>\n",
       "      <td>1</td>\n",
       "      <td>W.CAPE-BERGRIVER ETC</td>\n",
       "      <td>EC120</td>\n",
       "      <td>1M</td>\n",
       "      <td>12.0</td>\n",
       "      <td>APPLE GOLDEN DELICIOUS</td>\n",
       "      <td>2020-07-09</td>\n",
       "      <td>128.0</td>\n",
       "      <td>136.0</td>\n",
       "      <td>5008.0</td>\n",
       "      <td>38</td>\n",
       "      <td>456.0</td>\n",
       "      <td>0</td>\n",
       "    </tr>\n",
       "  </tbody>\n",
       "</table>\n",
       "</div>"
      ],
      "text/plain": [
       "   Index              Province Container Size_Grade  Weight_Kg  \\\n",
       "0      1  W.CAPE-BERGRIVER ETC     EC120         1M       12.0   \n",
       "\n",
       "              Commodities       Date  Low_Price  High_Price  Sales_Total  \\\n",
       "0  APPLE GOLDEN DELICIOUS 2020-07-09      128.0       136.0       5008.0   \n",
       "\n",
       "   Total_Qty_Sold  Total_Kg_Sold  Stock_On_Hand  \n",
       "0              38          456.0              0  "
      ]
     },
     "execution_count": 11,
     "metadata": {},
     "output_type": "execute_result"
    }
   ],
   "source": [
    "df_test.head(1)"
   ]
  },
  {
   "cell_type": "markdown",
   "metadata": {},
   "source": [
    "We have to make sure that our train data has the same features as the test data. \n",
    "We drop index for the test data, train data doesnt have index"
   ]
  },
  {
   "cell_type": "code",
   "execution_count": 12,
   "metadata": {},
   "outputs": [],
   "source": [
    "df_test = df_test.drop('Index', axis=1) # drop index for the test data, train data doesnt have index"
   ]
  },
  {
   "cell_type": "markdown",
   "metadata": {},
   "source": [
    "We select the rows 'APPLE GOLDEN DELICIOUS' only from the `Commodities` column of the train data since we are only predicting the price for the apples. Note that the test data only has the 'APPLE GOLDEN DELICIOUS' commodity already.\n"
   ]
  },
  {
   "cell_type": "code",
   "execution_count": 13,
   "metadata": {},
   "outputs": [],
   "source": [
    "train=df_train.loc[df_train['Commodities'] == 'APPLE GOLDEN DELICIOUS']\n",
    "test=df_test"
   ]
  },
  {
   "cell_type": "markdown",
   "metadata": {},
   "source": [
    "Drop the column `Commodities` because it's now redundant; all our data now refers to 'APPLE GOLDEN DELICIOUS'"
   ]
  },
  {
   "cell_type": "code",
   "execution_count": 14,
   "metadata": {
    "scrolled": true
   },
   "outputs": [
    {
     "name": "stderr",
     "output_type": "stream",
     "text": [
      "C:\\Users\\pilla\\anaconda3\\lib\\site-packages\\pandas\\core\\frame.py:4308: SettingWithCopyWarning: \n",
      "A value is trying to be set on a copy of a slice from a DataFrame\n",
      "\n",
      "See the caveats in the documentation: https://pandas.pydata.org/pandas-docs/stable/user_guide/indexing.html#returning-a-view-versus-a-copy\n",
      "  return super().drop(\n"
     ]
    }
   ],
   "source": [
    "train.drop('Commodities', axis=1, inplace=True) #df.drop(['B', 'C'], axis=1)\n",
    "test.drop('Commodities', axis=1, inplace=True) #df.drop(['B', 'C'], axis=1)"
   ]
  },
  {
   "cell_type": "markdown",
   "metadata": {},
   "source": [
    "Drop `Date` column because this model doesn't use the column. the inclusion of the column doesn't improve the model"
   ]
  },
  {
   "cell_type": "code",
   "execution_count": 15,
   "metadata": {},
   "outputs": [],
   "source": [
    "train.drop('Date', axis=1, inplace=True) #df.drop(['B', 'C'], axis=1)\n",
    "test.drop('Date', axis=1, inplace=True)"
   ]
  },
  {
   "cell_type": "code",
   "execution_count": 16,
   "metadata": {},
   "outputs": [
    {
     "data": {
      "text/html": [
       "<div>\n",
       "<style scoped>\n",
       "    .dataframe tbody tr th:only-of-type {\n",
       "        vertical-align: middle;\n",
       "    }\n",
       "\n",
       "    .dataframe tbody tr th {\n",
       "        vertical-align: top;\n",
       "    }\n",
       "\n",
       "    .dataframe thead th {\n",
       "        text-align: right;\n",
       "    }\n",
       "</style>\n",
       "<table border=\"1\" class=\"dataframe\">\n",
       "  <thead>\n",
       "    <tr style=\"text-align: right;\">\n",
       "      <th></th>\n",
       "      <th>Province</th>\n",
       "      <th>Container</th>\n",
       "      <th>Size_Grade</th>\n",
       "      <th>Weight_Kg</th>\n",
       "      <th>Low_Price</th>\n",
       "      <th>High_Price</th>\n",
       "      <th>Sales_Total</th>\n",
       "      <th>Total_Qty_Sold</th>\n",
       "      <th>Total_Kg_Sold</th>\n",
       "      <th>Stock_On_Hand</th>\n",
       "      <th>avg_price_per_kg</th>\n",
       "    </tr>\n",
       "  </thead>\n",
       "  <tbody>\n",
       "    <tr>\n",
       "      <th>1</th>\n",
       "      <td>CAPE</td>\n",
       "      <td>M4183</td>\n",
       "      <td>1L</td>\n",
       "      <td>18.3</td>\n",
       "      <td>150.0</td>\n",
       "      <td>170.0</td>\n",
       "      <td>51710.0</td>\n",
       "      <td>332</td>\n",
       "      <td>6075.6</td>\n",
       "      <td>822</td>\n",
       "      <td>8.51</td>\n",
       "    </tr>\n",
       "    <tr>\n",
       "      <th>7</th>\n",
       "      <td>CAPE</td>\n",
       "      <td>JG110</td>\n",
       "      <td>2M</td>\n",
       "      <td>11.0</td>\n",
       "      <td>50.0</td>\n",
       "      <td>50.0</td>\n",
       "      <td>16000.0</td>\n",
       "      <td>320</td>\n",
       "      <td>3520.0</td>\n",
       "      <td>0</td>\n",
       "      <td>4.55</td>\n",
       "    </tr>\n",
       "  </tbody>\n",
       "</table>\n",
       "</div>"
      ],
      "text/plain": [
       "  Province Container Size_Grade  Weight_Kg  Low_Price  High_Price  \\\n",
       "1     CAPE     M4183         1L       18.3      150.0       170.0   \n",
       "7     CAPE     JG110         2M       11.0       50.0        50.0   \n",
       "\n",
       "   Sales_Total  Total_Qty_Sold  Total_Kg_Sold  Stock_On_Hand  avg_price_per_kg  \n",
       "1      51710.0             332         6075.6            822              8.51  \n",
       "7      16000.0             320         3520.0              0              4.55  "
      ]
     },
     "execution_count": 16,
     "metadata": {},
     "output_type": "execute_result"
    }
   ],
   "source": [
    "train.head(2)"
   ]
  },
  {
   "cell_type": "markdown",
   "metadata": {},
   "source": [
    "#### Dummy Variable Encoding"
   ]
  },
  {
   "cell_type": "markdown",
   "metadata": {},
   "source": [
    "A dummy variable is a numerical variable used in regression analysis to represent subgroups of the sample in your study.\n",
    "Dummy variables are useful because they enable us to use a single regression equation to represent multiple groups. This means that we don’t need to write out separate equation models for each subgroup. The dummy variables act like ‘switches’ that turn various parameters on and off in an equation.\n",
    "Below is a function that takes a dataframe and returns dummy variables of its specified categorical features in our dataset. "
   ]
  },
  {
   "cell_type": "code",
   "execution_count": 17,
   "metadata": {},
   "outputs": [],
   "source": [
    "### START FUNCTION\n",
    "def dummy_encode_titles(input_df):\n",
    "    temp_df = input_df.copy()\n",
    "    \n",
    "    # Apply Dummy Encoding \n",
    "    temp_df = pd.get_dummies(temp_df, columns=['Province','Container','Size_Grade'], drop_first=True)\n",
    "    \n",
    "    return temp_df\n",
    "### END FUNCTION"
   ]
  },
  {
   "cell_type": "code",
   "execution_count": 18,
   "metadata": {},
   "outputs": [],
   "source": [
    "train_withDummy=dummy_encode_titles(train) #for train data\n",
    "test_withDummy=dummy_encode_titles(test) #for test data"
   ]
  },
  {
   "cell_type": "code",
   "execution_count": 19,
   "metadata": {},
   "outputs": [
    {
     "data": {
      "text/html": [
       "<div>\n",
       "<style scoped>\n",
       "    .dataframe tbody tr th:only-of-type {\n",
       "        vertical-align: middle;\n",
       "    }\n",
       "\n",
       "    .dataframe tbody tr th {\n",
       "        vertical-align: top;\n",
       "    }\n",
       "\n",
       "    .dataframe thead th {\n",
       "        text-align: right;\n",
       "    }\n",
       "</style>\n",
       "<table border=\"1\" class=\"dataframe\">\n",
       "  <thead>\n",
       "    <tr style=\"text-align: right;\">\n",
       "      <th></th>\n",
       "      <th>Weight_Kg</th>\n",
       "      <th>Low_Price</th>\n",
       "      <th>High_Price</th>\n",
       "      <th>Sales_Total</th>\n",
       "      <th>Total_Qty_Sold</th>\n",
       "      <th>Total_Kg_Sold</th>\n",
       "      <th>Stock_On_Hand</th>\n",
       "      <th>avg_price_per_kg</th>\n",
       "      <th>Province_EASTERN CAPE</th>\n",
       "      <th>Province_NATAL</th>\n",
       "      <th>...</th>\n",
       "      <th>Container_M9125</th>\n",
       "      <th>Size_Grade_1M</th>\n",
       "      <th>Size_Grade_1S</th>\n",
       "      <th>Size_Grade_1U</th>\n",
       "      <th>Size_Grade_1X</th>\n",
       "      <th>Size_Grade_2L</th>\n",
       "      <th>Size_Grade_2M</th>\n",
       "      <th>Size_Grade_2S</th>\n",
       "      <th>Size_Grade_2U</th>\n",
       "      <th>Size_Grade_2X</th>\n",
       "    </tr>\n",
       "  </thead>\n",
       "  <tbody>\n",
       "    <tr>\n",
       "      <th>1</th>\n",
       "      <td>18.3</td>\n",
       "      <td>150.0</td>\n",
       "      <td>170.0</td>\n",
       "      <td>51710.0</td>\n",
       "      <td>332</td>\n",
       "      <td>6075.6</td>\n",
       "      <td>822</td>\n",
       "      <td>8.51</td>\n",
       "      <td>0</td>\n",
       "      <td>0</td>\n",
       "      <td>...</td>\n",
       "      <td>0</td>\n",
       "      <td>0</td>\n",
       "      <td>0</td>\n",
       "      <td>0</td>\n",
       "      <td>0</td>\n",
       "      <td>0</td>\n",
       "      <td>0</td>\n",
       "      <td>0</td>\n",
       "      <td>0</td>\n",
       "      <td>0</td>\n",
       "    </tr>\n",
       "    <tr>\n",
       "      <th>7</th>\n",
       "      <td>11.0</td>\n",
       "      <td>50.0</td>\n",
       "      <td>50.0</td>\n",
       "      <td>16000.0</td>\n",
       "      <td>320</td>\n",
       "      <td>3520.0</td>\n",
       "      <td>0</td>\n",
       "      <td>4.55</td>\n",
       "      <td>0</td>\n",
       "      <td>0</td>\n",
       "      <td>...</td>\n",
       "      <td>0</td>\n",
       "      <td>0</td>\n",
       "      <td>0</td>\n",
       "      <td>0</td>\n",
       "      <td>0</td>\n",
       "      <td>0</td>\n",
       "      <td>1</td>\n",
       "      <td>0</td>\n",
       "      <td>0</td>\n",
       "      <td>0</td>\n",
       "    </tr>\n",
       "  </tbody>\n",
       "</table>\n",
       "<p>2 rows × 33 columns</p>\n",
       "</div>"
      ],
      "text/plain": [
       "   Weight_Kg  Low_Price  High_Price  Sales_Total  Total_Qty_Sold  \\\n",
       "1       18.3      150.0       170.0      51710.0             332   \n",
       "7       11.0       50.0        50.0      16000.0             320   \n",
       "\n",
       "   Total_Kg_Sold  Stock_On_Hand  avg_price_per_kg  Province_EASTERN CAPE  \\\n",
       "1         6075.6            822              8.51                      0   \n",
       "7         3520.0              0              4.55                      0   \n",
       "\n",
       "   Province_NATAL  ...  Container_M9125  Size_Grade_1M  Size_Grade_1S  \\\n",
       "1               0  ...                0              0              0   \n",
       "7               0  ...                0              0              0   \n",
       "\n",
       "   Size_Grade_1U  Size_Grade_1X  Size_Grade_2L  Size_Grade_2M  Size_Grade_2S  \\\n",
       "1              0              0              0              0              0   \n",
       "7              0              0              0              1              0   \n",
       "\n",
       "   Size_Grade_2U  Size_Grade_2X  \n",
       "1              0              0  \n",
       "7              0              0  \n",
       "\n",
       "[2 rows x 33 columns]"
      ]
     },
     "execution_count": 19,
     "metadata": {},
     "output_type": "execute_result"
    }
   ],
   "source": [
    "train_withDummy.head(2)"
   ]
  },
  {
   "cell_type": "code",
   "execution_count": 20,
   "metadata": {
    "scrolled": true
   },
   "outputs": [
    {
     "data": {
      "text/html": [
       "<div>\n",
       "<style scoped>\n",
       "    .dataframe tbody tr th:only-of-type {\n",
       "        vertical-align: middle;\n",
       "    }\n",
       "\n",
       "    .dataframe tbody tr th {\n",
       "        vertical-align: top;\n",
       "    }\n",
       "\n",
       "    .dataframe thead th {\n",
       "        text-align: right;\n",
       "    }\n",
       "</style>\n",
       "<table border=\"1\" class=\"dataframe\">\n",
       "  <thead>\n",
       "    <tr style=\"text-align: right;\">\n",
       "      <th></th>\n",
       "      <th>Weight_Kg</th>\n",
       "      <th>Low_Price</th>\n",
       "      <th>High_Price</th>\n",
       "      <th>Sales_Total</th>\n",
       "      <th>Total_Qty_Sold</th>\n",
       "      <th>Total_Kg_Sold</th>\n",
       "      <th>Stock_On_Hand</th>\n",
       "      <th>Province_EASTERN CAPE</th>\n",
       "      <th>Province_NATAL</th>\n",
       "      <th>Province_ORANGE FREE STATE</th>\n",
       "      <th>...</th>\n",
       "      <th>Container_M9125</th>\n",
       "      <th>Size_Grade_1M</th>\n",
       "      <th>Size_Grade_1S</th>\n",
       "      <th>Size_Grade_1U</th>\n",
       "      <th>Size_Grade_1X</th>\n",
       "      <th>Size_Grade_2L</th>\n",
       "      <th>Size_Grade_2M</th>\n",
       "      <th>Size_Grade_2S</th>\n",
       "      <th>Size_Grade_2U</th>\n",
       "      <th>Size_Grade_2X</th>\n",
       "    </tr>\n",
       "  </thead>\n",
       "  <tbody>\n",
       "    <tr>\n",
       "      <th>0</th>\n",
       "      <td>12.0</td>\n",
       "      <td>128.0</td>\n",
       "      <td>136.0</td>\n",
       "      <td>5008.0</td>\n",
       "      <td>38</td>\n",
       "      <td>456.0</td>\n",
       "      <td>0</td>\n",
       "      <td>0</td>\n",
       "      <td>0</td>\n",
       "      <td>0</td>\n",
       "      <td>...</td>\n",
       "      <td>0</td>\n",
       "      <td>1</td>\n",
       "      <td>0</td>\n",
       "      <td>0</td>\n",
       "      <td>0</td>\n",
       "      <td>0</td>\n",
       "      <td>0</td>\n",
       "      <td>0</td>\n",
       "      <td>0</td>\n",
       "      <td>0</td>\n",
       "    </tr>\n",
       "    <tr>\n",
       "      <th>1</th>\n",
       "      <td>18.3</td>\n",
       "      <td>220.0</td>\n",
       "      <td>220.0</td>\n",
       "      <td>1760.0</td>\n",
       "      <td>8</td>\n",
       "      <td>146.4</td>\n",
       "      <td>2</td>\n",
       "      <td>0</td>\n",
       "      <td>0</td>\n",
       "      <td>0</td>\n",
       "      <td>...</td>\n",
       "      <td>0</td>\n",
       "      <td>0</td>\n",
       "      <td>0</td>\n",
       "      <td>0</td>\n",
       "      <td>1</td>\n",
       "      <td>0</td>\n",
       "      <td>0</td>\n",
       "      <td>0</td>\n",
       "      <td>0</td>\n",
       "      <td>0</td>\n",
       "    </tr>\n",
       "  </tbody>\n",
       "</table>\n",
       "<p>2 rows × 32 columns</p>\n",
       "</div>"
      ],
      "text/plain": [
       "   Weight_Kg  Low_Price  High_Price  Sales_Total  Total_Qty_Sold  \\\n",
       "0       12.0      128.0       136.0       5008.0              38   \n",
       "1       18.3      220.0       220.0       1760.0               8   \n",
       "\n",
       "   Total_Kg_Sold  Stock_On_Hand  Province_EASTERN CAPE  Province_NATAL  \\\n",
       "0          456.0              0                      0               0   \n",
       "1          146.4              2                      0               0   \n",
       "\n",
       "   Province_ORANGE FREE STATE  ...  Container_M9125  Size_Grade_1M  \\\n",
       "0                           0  ...                0              1   \n",
       "1                           0  ...                0              0   \n",
       "\n",
       "   Size_Grade_1S  Size_Grade_1U  Size_Grade_1X  Size_Grade_2L  Size_Grade_2M  \\\n",
       "0              0              0              0              0              0   \n",
       "1              0              0              1              0              0   \n",
       "\n",
       "   Size_Grade_2S  Size_Grade_2U  Size_Grade_2X  \n",
       "0              0              0              0  \n",
       "1              0              0              0  \n",
       "\n",
       "[2 rows x 32 columns]"
      ]
     },
     "execution_count": 20,
     "metadata": {},
     "output_type": "execute_result"
    }
   ],
   "source": [
    "test_withDummy.head(2)"
   ]
  },
  {
   "cell_type": "markdown",
   "metadata": {},
   "source": [
    "Now the data is preprocessed and it's ready to be used in our two models i.e. Random Forest and XGBoost model"
   ]
  },
  {
   "cell_type": "markdown",
   "metadata": {},
   "source": [
    "# MODEL 1: Random forest Model"
   ]
  },
  {
   "cell_type": "markdown",
   "metadata": {},
   "source": [
    "### Train Random Forest Model"
   ]
  },
  {
   "cell_type": "code",
   "execution_count": 21,
   "metadata": {},
   "outputs": [],
   "source": [
    "X = train_withDummy.drop('avg_price_per_kg',axis=1).values\n",
    "#X = train_withDummy.drop(['avg_price_per_kg','Sales_Total'],axis=1).values  #df.drop(['B', 'C'], axis=1)\n",
    "y = train_withDummy['avg_price_per_kg'].values"
   ]
  },
  {
   "cell_type": "code",
   "execution_count": 22,
   "metadata": {},
   "outputs": [],
   "source": [
    "# Train test split\n",
    "x_train, x_test, y_train,y_test = train_test_split(X,y,test_size=0.2,random_state=6)"
   ]
  },
  {
   "cell_type": "code",
   "execution_count": 23,
   "metadata": {},
   "outputs": [
    {
     "data": {
      "text/plain": [
       "RandomForestRegressor(max_depth=10, random_state=42)"
      ]
     },
     "execution_count": 23,
     "metadata": {},
     "output_type": "execute_result"
    }
   ],
   "source": [
    "# Our forest consists of 100 trees with a max depth of 10\n",
    "model_RF = RandomForestRegressor(n_estimators=100, max_depth=10, random_state = 42)\n",
    "# Train the model on training data\n",
    "model_RF.fit(x_train,y_train)"
   ]
  },
  {
   "cell_type": "markdown",
   "metadata": {},
   "source": [
    "# Saving our model"
   ]
  },
  {
   "cell_type": "code",
   "execution_count": 35,
   "metadata": {},
   "outputs": [],
   "source": [
    "import pickle\n",
    "\n",
    "model_save_path = \"RF_model.pkl\"\n",
    "\n",
    "with open(model_save_path,'wb') as file:\n",
    "    pickle.dump(model_RF,file)"
   ]
  },
  {
   "cell_type": "markdown",
   "metadata": {},
   "source": [
    "### Test Random Forest Model"
   ]
  },
  {
   "cell_type": "markdown",
   "metadata": {},
   "source": [
    "Testing and getting predictions"
   ]
  },
  {
   "cell_type": "code",
   "execution_count": 19,
   "metadata": {},
   "outputs": [],
   "source": [
    "from sklearn.metrics import mean_squared_error"
   ]
  },
  {
   "cell_type": "code",
   "execution_count": 24,
   "metadata": {},
   "outputs": [],
   "source": [
    "# Get predictions\n",
    "y_pred = model_RF.predict(np.array(test_withDummy)) #NOTE that we have to convert the 'test_withDummy' dataframe to an array"
   ]
  },
  {
   "cell_type": "code",
   "execution_count": 25,
   "metadata": {},
   "outputs": [
    {
     "data": {
      "text/plain": [
       "array([10.77960637, 11.97935   ,  9.99788796,  8.74484298,  8.26759692,\n",
       "        4.46093542,  3.63911472,  7.23485683,  8.78253153,  9.34109791,\n",
       "        4.86715816,  5.6756    ,  8.95576088,  4.49274642,  4.52983803,\n",
       "        6.11261901,  7.47923413,  4.49294411, 10.47075048,  6.02748946,\n",
       "        5.65305733,  4.69277988,  5.39410809,  7.9135481 ,  5.56      ,\n",
       "        6.49220951,  7.64208162,  7.96365512,  7.19642161,  7.11243433,\n",
       "        7.97973028,  5.58095785,  9.86745405,  7.66802829,  4.84167664,\n",
       "        9.81949519, 10.95082298, 11.41756214,  6.32114156,  6.53980795,\n",
       "        8.53279584,  8.13348678,  5.01443514,  6.15921034,  5.56      ,\n",
       "        5.32242861,  5.        ,  5.5688    ,  6.10613661,  5.20665667,\n",
       "        1.3984    ,  6.28439013,  6.15880372, 14.1549    ,  8.3800587 ,\n",
       "        5.7345204 , 11.96698   ,  8.71736315,  7.45858089,  6.04198706,\n",
       "        7.26437319, 11.1323269 ,  6.15815764,  9.12480654,  6.32014277,\n",
       "        6.19924762,  6.90055358,  5.16781851,  5.4819    ,  7.00192952,\n",
       "        5.49241821,  4.53898146,  3.41528783,  8.04145845,  6.91407965,\n",
       "        4.91742144,  6.12957346,  9.12332995, 10.92346298,  6.15836284,\n",
       "        6.46897565,  5.        ,  6.04667514,  5.56      ,  1.13856   ,\n",
       "        6.16595299,  7.3186266 , 11.14051024,  4.89788891,  7.01894118,\n",
       "        9.64801216,  9.52909276,  7.27458012,  6.02363407,  5.99997398,\n",
       "        6.58623779,  8.44798365,  8.99103829,  6.92535765,  5.56      ,\n",
       "       10.93890519,  6.40427334,  6.10886765,  7.66798544,  7.16551386,\n",
       "        8.68791997,  7.6765507 ,  2.7553537 ,  9.99788796,  5.        ,\n",
       "        4.25201844,  7.71910272,  6.11423939,  4.21807947,  7.06339639,\n",
       "        9.99788796,  5.33445922,  9.15104678,  4.46646326,  6.63976198,\n",
       "        5.99675414,  4.18816012,  9.60858809,  4.51722247,  8.7939074 ,\n",
       "        7.26224965,  4.25418355,  9.41032439,  9.84634281,  5.93885243,\n",
       "        7.30334964,  5.80295489,  9.11323855,  8.31768371,  1.255     ,\n",
       "        6.05844893,  7.76193312,  7.15973605,  7.68682249,  5.40480821,\n",
       "        7.96083607,  5.4991619 ,  9.12163112,  4.85602877,  9.07474439,\n",
       "        6.67209609,  5.44260016,  7.80853696,  5.49804048,  8.16053745,\n",
       "        9.99788796,  8.03875185,  5.03998548,  7.91988936,  7.11467984,\n",
       "       10.94830519,  4.96845109,  4.43572023,  6.00985081,  5.99031267,\n",
       "        8.1025195 ,  9.67562899,  7.12351023,  8.55536418,  7.19147237,\n",
       "        8.49405191,  7.84176529,  7.22430553,  5.02341413,  7.50903861,\n",
       "        8.59317202,  7.0386684 ,  5.09728482, 11.79895143,  5.99466441,\n",
       "        4.69906594,  7.07535561,  5.5754    ,  6.10457436,  6.93664512,\n",
       "        5.15803991,  0.7308    , 10.08264043,  7.38133458,  7.24288531,\n",
       "        0.8251    ,  4.0058746 ,  9.81784281,  7.35083875,  5.9049589 ,\n",
       "        5.56      ,  8.79337366,  5.        ,  4.52303803,  9.99206203,\n",
       "        8.52818103,  9.01873272,  7.01879109,  5.9989    ,  7.88132542,\n",
       "        7.56525137,  2.9541    ,  7.66218302,  1.68133619,  6.5078475 ,\n",
       "        4.34301036,  8.12263266,  7.9135481 ,  7.29413807,  8.29060075,\n",
       "        7.13141299, 14.0167    ,  5.43203715,  6.1673046 ,  9.53711799,\n",
       "        5.56      ,  5.90802837,  5.26539347, 10.33444496,  7.48598852,\n",
       "        5.54879696,  5.05780871,  8.30927999, 10.90664298, 11.34707905,\n",
       "        6.68252271,  6.39407417,  5.44847852,  9.04533272,  5.56      ,\n",
       "        4.78990399, 10.30545532,  7.66798544,  5.44693923,  6.67209609,\n",
       "        6.11358923,  8.85741247,  8.74344298,  4.14115385,  5.50736753,\n",
       "        4.46478212,  5.30052294,  6.60931292,  8.02938632, 10.93724298,\n",
       "        6.96725539,  5.62943214,  7.66798544,  5.34324472,  9.12034021,\n",
       "        8.08576067,  9.52778651,  5.15629662,  4.80699886,  6.67209609,\n",
       "        4.63829894,  7.0093132 ,  8.72344739,  8.74624298,  8.47451099,\n",
       "       10.6707605 , 10.6269126 ,  6.14230923,  5.96082302,  5.05085275,\n",
       "        7.40419223,  5.22912379,  6.64388829,  4.51015139,  6.67209609,\n",
       "        8.33262052,  6.67429609, 10.9477387 ,  1.4396    ,  7.97973028,\n",
       "        9.83454216,  5.185305  ,  6.67209609,  6.00512641,  7.4857395 ,\n",
       "        5.06550999,  6.94742972,  6.14076765,  4.28361307,  9.32856279,\n",
       "        4.69320099,  5.94352295,  5.50520511,  8.23093894,  8.52801741,\n",
       "        5.95875   ,  5.98443209,  5.59242109,  1.2292    ,  6.74064732,\n",
       "        6.90765109,  8.65958218,  8.51889973,  7.69329528,  6.79591046,\n",
       "        5.56      ,  6.01116804,  4.46899709,  6.2025172 ,  8.63957325,\n",
       "        9.17271705,  5.49211039,  3.74739263,  8.18464093,  6.27423975,\n",
       "        6.68102582,  7.2922437 ,  5.32483038,  8.30677656, 10.644363  ,\n",
       "        8.69243891,  6.10956268,  5.0423162 ,  5.45970841,  6.71644757,\n",
       "        6.03154996,  6.67862963,  4.52242055,  7.56118817,  5.        ,\n",
       "        3.87306979,  7.49748115,  6.01935471, 10.44366381,  7.56296834,\n",
       "        5.4958613 ,  5.2712517 ,  9.08115567,  6.48546878,  8.2361905 ,\n",
       "        8.01316556,  8.11319393,  6.67209609,  7.50826927,  4.55236704,\n",
       "        6.79407095,  5.41469565,  8.647155  ,  6.92458301,  9.35843558,\n",
       "        6.84466265,  8.72927001,  5.08016948,  7.67732649,  8.16045582,\n",
       "        7.35721096,  9.51506817,  7.66798544,  9.60226656,  6.11312508,\n",
       "        6.67209609,  5.87651262,  8.76071641,  8.7671059 ,  8.41620538,\n",
       "        6.81863392,  6.16025722,  7.04825028,  8.95485895,  5.96269472,\n",
       "        7.10558782,  7.27631872,  7.56483901,  5.63836033,  9.37353728,\n",
       "        4.65647685,  6.67209609,  6.11077545,  8.83389856,  6.96008963,\n",
       "        7.16496346,  4.94504   ,  6.32599907,  7.66798544,  6.8870335 ,\n",
       "        6.79859807,  7.00247119,  7.12691886,  7.17981676,  2.74803028,\n",
       "        7.83580957,  6.01056743,  7.73023188,  3.35410872,  8.80751591,\n",
       "        6.58310521,  6.38118151,  9.12692551,  9.04533272,  1.4072    ,\n",
       "        8.70692842,  6.67209609,  7.10741275,  7.27141512,  6.50382087,\n",
       "        6.00746989,  3.07184108, 10.08702683,  5.86384475,  5.97692   ,\n",
       "        9.58129791,  4.76698813,  7.40420023,  4.69680099,  9.99788796,\n",
       "        9.50832403,  4.21807947,  6.11958885,  8.53304662,  9.33513751,\n",
       "        4.68254212,  9.04569827,  5.33596477,  9.99788796,  6.67209609,\n",
       "        4.45910416,  4.98442643,  7.57783111,  5.33983708,  6.42216282,\n",
       "        9.01873272,  7.74436682,  7.8459081 ,  8.66312671,  6.72651014,\n",
       "       10.09984726,  7.9103539 ,  7.25519838, 10.50765336,  6.72928923,\n",
       "        7.60343567,  4.5070886 ,  5.56      ,  6.16321298,  6.01409614,\n",
       "        8.05614988,  6.00089267,  9.99788796,  9.9111487 ,  8.81124181,\n",
       "       10.28324321,  7.47715159,  8.33246755,  8.34052883,  8.32533262,\n",
       "        9.99788796,  7.25810373,  9.19662824,  8.24982935,  6.27110057,\n",
       "        8.02634103,  8.21318875,  8.73026171,  4.3699624 ,  7.32947365,\n",
       "        5.01850275,  8.73707669,  5.56      ,  6.2356828 ,  7.7961321 ,\n",
       "        4.13775946,  4.96981845,  7.45564873,  5.5754    ,  8.30927999,\n",
       "        8.24702639,  8.6512151 ,  5.49659129,  4.77126912,  5.53899521,\n",
       "       10.07038333,  9.74734946,  4.0672694 ,  6.65679405,  5.56      ,\n",
       "        4.81648064,  7.66798544,  4.62273564,  4.03913438,  8.21444526,\n",
       "        6.56374375,  8.39572248,  3.16854213,  5.45455621,  4.0672694 ,\n",
       "        5.59658754,  6.9074732 ,  7.16427704,  7.92182606, 10.30517923,\n",
       "        6.71761555,  4.52365897,  8.42085315,  8.24348077,  9.15929586,\n",
       "        9.5543366 , 12.80095083,  8.91326856,  9.04009022,  8.06377109,\n",
       "        9.99788796,  7.27073215,  6.67209609,  7.65167956,  5.29779346,\n",
       "        8.68791997,  6.99758369,  6.05678885,  4.46478212,  7.80488707,\n",
       "        8.74344298,  8.19656683,  6.59840467,  7.30640361,  4.750034  ,\n",
       "        9.25634965,  5.08906545,  6.43115962,  6.40374528,  7.26736632,\n",
       "        8.48507229,  7.66798544,  2.9541    ,  4.3699624 ,  9.71572636,\n",
       "        9.81249519,  5.70262269,  8.74344298,  7.16548164,  9.64193602,\n",
       "        8.68791997,  7.17630897,  6.07209888,  6.15245678,  8.76508771,\n",
       "        8.30649346,  4.88816414,  7.33969754,  8.95182869,  7.76479802,\n",
       "        6.42698357,  8.63805348,  6.32274156,  4.52108934,  6.75385852,\n",
       "        5.29214696,  5.98968879,  6.1134475 ,  4.66741536,  5.34038472,\n",
       "        5.24709808,  9.99950796,  7.31024673,  5.06453943,  5.87713127,\n",
       "        8.58832797,  4.48660646,  5.56      ,  5.55413671,  7.05771056,\n",
       "        4.78192154,  9.3590561 ,  7.56525137,  9.00359399,  9.46108251,\n",
       "        4.69320099,  6.05705316,  9.09070927,  8.02741507,  5.19360407,\n",
       "        5.916     ,  6.15156852,  3.47932567,  7.49411211, 10.93724298,\n",
       "        5.56      ,  5.34542844,  3.15531761,  6.44582886,  8.6143379 ,\n",
       "        8.22182306,  6.99009976, 13.04138   ,  6.58154526,  7.28439157,\n",
       "        7.73012857,  7.14360235,  6.14911842,  6.28218477,  6.90722403,\n",
       "        6.10751814,  6.59864106,  6.67209609,  7.29770268,  5.67709482,\n",
       "        6.71864939,  7.33090944, 10.37384901,  8.52927543,  7.09545862,\n",
       "        2.20379033,  7.9677146 ,  4.15803845,  8.30145809,  9.08185942,\n",
       "        8.53710569,  8.16463915,  7.29389179,  4.70736518, 10.63197368,\n",
       "        5.71557967,  6.54467922, 13.08528   ,  5.5349614 ,  7.20526915,\n",
       "        5.12196523, 10.34320724,  8.07626099,  5.56      ,  6.10811932,\n",
       "        5.01443514,  6.11280854,  4.50298527,  6.84719156,  6.10496844,\n",
       "        5.93741179,  6.90554656,  5.34511047,  5.57281717,  7.13059342,\n",
       "        5.97432621,  9.1047048 ,  5.89755444,  4.46150365,  8.05279445,\n",
       "        6.26766704,  5.        ,  8.21444526,  4.48820345, 10.94962298,\n",
       "        6.92048627,  6.73112288,  4.5592762 ,  9.33469031,  7.99027764,\n",
       "        5.57400119,  7.10750016,  6.1727089 ,  8.74344298,  4.49343149,\n",
       "        7.27631872,  5.52790744,  4.49881223,  5.98421671,  9.35959501,\n",
       "        6.10836066,  6.67209609,  6.11435996,  1.703     , 10.9392387 ,\n",
       "        8.22987761,  7.49026609,  4.83087886, 11.41756214,  7.05640415,\n",
       "        9.81784281,  5.5688    ,  5.4767514 ,  7.11112025, 10.44175601,\n",
       "       10.08969887,  6.1460697 ,  7.36966782,  7.621304  ,  2.29469413,\n",
       "        3.21500928,  8.650971  ,  6.11358923,  7.18932364,  7.16781682])"
      ]
     },
     "execution_count": 25,
     "metadata": {},
     "output_type": "execute_result"
    }
   ],
   "source": [
    "y_pred"
   ]
  },
  {
   "cell_type": "markdown",
   "metadata": {},
   "source": [
    "We now create a dataframe to submit to Kaggle:"
   ]
  },
  {
   "cell_type": "code",
   "execution_count": 22,
   "metadata": {},
   "outputs": [],
   "source": [
    "# create submission dataframe\n",
    "\n",
    "submission = pd.DataFrame(\n",
    "    {\n",
    "     'avg_price_per_kg': y_pred\n",
    "    })\n",
    "submission.index += 1 # start index from 1\n",
    "submission[\"Index\"] = submission.index #name the index column 'Index'\n",
    "submission= submission[['Index', 'avg_price_per_kg']] "
   ]
  },
  {
   "cell_type": "code",
   "execution_count": 23,
   "metadata": {},
   "outputs": [
    {
     "data": {
      "text/html": [
       "<div>\n",
       "<style scoped>\n",
       "    .dataframe tbody tr th:only-of-type {\n",
       "        vertical-align: middle;\n",
       "    }\n",
       "\n",
       "    .dataframe tbody tr th {\n",
       "        vertical-align: top;\n",
       "    }\n",
       "\n",
       "    .dataframe thead th {\n",
       "        text-align: right;\n",
       "    }\n",
       "</style>\n",
       "<table border=\"1\" class=\"dataframe\">\n",
       "  <thead>\n",
       "    <tr style=\"text-align: right;\">\n",
       "      <th></th>\n",
       "      <th>Index</th>\n",
       "      <th>avg_price_per_kg</th>\n",
       "    </tr>\n",
       "  </thead>\n",
       "  <tbody>\n",
       "    <tr>\n",
       "      <th>1</th>\n",
       "      <td>1</td>\n",
       "      <td>10.779606</td>\n",
       "    </tr>\n",
       "    <tr>\n",
       "      <th>2</th>\n",
       "      <td>2</td>\n",
       "      <td>11.979350</td>\n",
       "    </tr>\n",
       "    <tr>\n",
       "      <th>3</th>\n",
       "      <td>3</td>\n",
       "      <td>9.997888</td>\n",
       "    </tr>\n",
       "    <tr>\n",
       "      <th>4</th>\n",
       "      <td>4</td>\n",
       "      <td>8.744843</td>\n",
       "    </tr>\n",
       "    <tr>\n",
       "      <th>5</th>\n",
       "      <td>5</td>\n",
       "      <td>8.267597</td>\n",
       "    </tr>\n",
       "    <tr>\n",
       "      <th>...</th>\n",
       "      <td>...</td>\n",
       "      <td>...</td>\n",
       "    </tr>\n",
       "    <tr>\n",
       "      <th>681</th>\n",
       "      <td>681</td>\n",
       "      <td>3.215009</td>\n",
       "    </tr>\n",
       "    <tr>\n",
       "      <th>682</th>\n",
       "      <td>682</td>\n",
       "      <td>8.650971</td>\n",
       "    </tr>\n",
       "    <tr>\n",
       "      <th>683</th>\n",
       "      <td>683</td>\n",
       "      <td>6.113589</td>\n",
       "    </tr>\n",
       "    <tr>\n",
       "      <th>684</th>\n",
       "      <td>684</td>\n",
       "      <td>7.189324</td>\n",
       "    </tr>\n",
       "    <tr>\n",
       "      <th>685</th>\n",
       "      <td>685</td>\n",
       "      <td>7.167817</td>\n",
       "    </tr>\n",
       "  </tbody>\n",
       "</table>\n",
       "<p>685 rows × 2 columns</p>\n",
       "</div>"
      ],
      "text/plain": [
       "     Index  avg_price_per_kg\n",
       "1        1         10.779606\n",
       "2        2         11.979350\n",
       "3        3          9.997888\n",
       "4        4          8.744843\n",
       "5        5          8.267597\n",
       "..     ...               ...\n",
       "681    681          3.215009\n",
       "682    682          8.650971\n",
       "683    683          6.113589\n",
       "684    684          7.189324\n",
       "685    685          7.167817\n",
       "\n",
       "[685 rows x 2 columns]"
      ]
     },
     "execution_count": 23,
     "metadata": {},
     "output_type": "execute_result"
    }
   ],
   "source": [
    "submission"
   ]
  },
  {
   "cell_type": "code",
   "execution_count": 24,
   "metadata": {},
   "outputs": [],
   "source": [
    "# save DataFrame to csv file for submission (Give it any name you want)\n",
    "submission.to_csv(\"ZM2_RF_model.csv\", index=False)"
   ]
  },
  {
   "cell_type": "markdown",
   "metadata": {},
   "source": [
    "#### Evaluating the model"
   ]
  },
  {
   "cell_type": "code",
   "execution_count": 25,
   "metadata": {},
   "outputs": [
    {
     "data": {
      "text/plain": [
       "{'Test RMSE': 0.4747883514835536}"
      ]
     },
     "execution_count": 25,
     "metadata": {},
     "output_type": "execute_result"
    }
   ],
   "source": [
    "test_pred1 = model_RF.predict(x_test)\n",
    "    \n",
    "test_rmse = np.sqrt(mean_squared_error(test_pred1,y_test))\n",
    "\n",
    "{'Test RMSE': test_rmse}\n",
    "    "
   ]
  },
  {
   "cell_type": "markdown",
   "metadata": {},
   "source": [
    "This is the end of the Random Forest Model. We move on to the XGBoost Model'"
   ]
  },
  {
   "cell_type": "markdown",
   "metadata": {},
   "source": [
    "# Model 2: XGBoost Model"
   ]
  },
  {
   "cell_type": "markdown",
   "metadata": {},
   "source": [
    "After trying various models of xgboost, the one with only numerical features produced the best model."
   ]
  },
  {
   "cell_type": "markdown",
   "metadata": {},
   "source": [
    "Hence, we drop all categorical variables"
   ]
  },
  {
   "cell_type": "code",
   "execution_count": 26,
   "metadata": {},
   "outputs": [
    {
     "name": "stderr",
     "output_type": "stream",
     "text": [
      "C:\\Users\\Richie\\Anaconda_3\\lib\\site-packages\\pandas\\core\\frame.py:3990: SettingWithCopyWarning: \n",
      "A value is trying to be set on a copy of a slice from a DataFrame\n",
      "\n",
      "See the caveats in the documentation: https://pandas.pydata.org/pandas-docs/stable/user_guide/indexing.html#returning-a-view-versus-a-copy\n",
      "  return super().drop(\n"
     ]
    }
   ],
   "source": [
    "train.drop(['Province','Container','Size_Grade'], axis=1, inplace=True)#df.drop(['B', 'C'], axis=1)\n",
    "test.drop(['Province','Container','Size_Grade'], axis=1, inplace=True)"
   ]
  },
  {
   "cell_type": "code",
   "execution_count": 27,
   "metadata": {},
   "outputs": [
    {
     "data": {
      "text/html": [
       "<div>\n",
       "<style scoped>\n",
       "    .dataframe tbody tr th:only-of-type {\n",
       "        vertical-align: middle;\n",
       "    }\n",
       "\n",
       "    .dataframe tbody tr th {\n",
       "        vertical-align: top;\n",
       "    }\n",
       "\n",
       "    .dataframe thead th {\n",
       "        text-align: right;\n",
       "    }\n",
       "</style>\n",
       "<table border=\"1\" class=\"dataframe\">\n",
       "  <thead>\n",
       "    <tr style=\"text-align: right;\">\n",
       "      <th></th>\n",
       "      <th>Weight_Kg</th>\n",
       "      <th>Low_Price</th>\n",
       "      <th>High_Price</th>\n",
       "      <th>Sales_Total</th>\n",
       "      <th>Total_Qty_Sold</th>\n",
       "      <th>Total_Kg_Sold</th>\n",
       "      <th>Stock_On_Hand</th>\n",
       "      <th>avg_price_per_kg</th>\n",
       "    </tr>\n",
       "  </thead>\n",
       "  <tbody>\n",
       "    <tr>\n",
       "      <th>1</th>\n",
       "      <td>18.3</td>\n",
       "      <td>150.0</td>\n",
       "      <td>170.0</td>\n",
       "      <td>51710.0</td>\n",
       "      <td>332</td>\n",
       "      <td>6075.6</td>\n",
       "      <td>822</td>\n",
       "      <td>8.51</td>\n",
       "    </tr>\n",
       "  </tbody>\n",
       "</table>\n",
       "</div>"
      ],
      "text/plain": [
       "   Weight_Kg  Low_Price  High_Price  Sales_Total  Total_Qty_Sold  \\\n",
       "1       18.3      150.0       170.0      51710.0             332   \n",
       "\n",
       "   Total_Kg_Sold  Stock_On_Hand  avg_price_per_kg  \n",
       "1         6075.6            822              8.51  "
      ]
     },
     "execution_count": 27,
     "metadata": {},
     "output_type": "execute_result"
    }
   ],
   "source": [
    "train.head(1)"
   ]
  },
  {
   "cell_type": "code",
   "execution_count": 28,
   "metadata": {},
   "outputs": [
    {
     "data": {
      "text/html": [
       "<div>\n",
       "<style scoped>\n",
       "    .dataframe tbody tr th:only-of-type {\n",
       "        vertical-align: middle;\n",
       "    }\n",
       "\n",
       "    .dataframe tbody tr th {\n",
       "        vertical-align: top;\n",
       "    }\n",
       "\n",
       "    .dataframe thead th {\n",
       "        text-align: right;\n",
       "    }\n",
       "</style>\n",
       "<table border=\"1\" class=\"dataframe\">\n",
       "  <thead>\n",
       "    <tr style=\"text-align: right;\">\n",
       "      <th></th>\n",
       "      <th>Weight_Kg</th>\n",
       "      <th>Low_Price</th>\n",
       "      <th>High_Price</th>\n",
       "      <th>Sales_Total</th>\n",
       "      <th>Total_Qty_Sold</th>\n",
       "      <th>Total_Kg_Sold</th>\n",
       "      <th>Stock_On_Hand</th>\n",
       "    </tr>\n",
       "  </thead>\n",
       "  <tbody>\n",
       "    <tr>\n",
       "      <th>0</th>\n",
       "      <td>12.0</td>\n",
       "      <td>128.0</td>\n",
       "      <td>136.0</td>\n",
       "      <td>5008.0</td>\n",
       "      <td>38</td>\n",
       "      <td>456.0</td>\n",
       "      <td>0</td>\n",
       "    </tr>\n",
       "  </tbody>\n",
       "</table>\n",
       "</div>"
      ],
      "text/plain": [
       "   Weight_Kg  Low_Price  High_Price  Sales_Total  Total_Qty_Sold  \\\n",
       "0       12.0      128.0       136.0       5008.0              38   \n",
       "\n",
       "   Total_Kg_Sold  Stock_On_Hand  \n",
       "0          456.0              0  "
      ]
     },
     "execution_count": 28,
     "metadata": {},
     "output_type": "execute_result"
    }
   ],
   "source": [
    "test.head(1)"
   ]
  },
  {
   "cell_type": "markdown",
   "metadata": {},
   "source": [
    "### Train XGBoost Model"
   ]
  },
  {
   "cell_type": "code",
   "execution_count": 29,
   "metadata": {},
   "outputs": [],
   "source": [
    "X = train.drop('avg_price_per_kg',axis=1).values  #df.drop(['B', 'C'], axis=1)\n",
    "y = train['avg_price_per_kg']"
   ]
  },
  {
   "cell_type": "code",
   "execution_count": 30,
   "metadata": {},
   "outputs": [],
   "source": [
    "# Train test split\n",
    "x_train, x_test, y_train,y_test = train_test_split(X,y,test_size=0.20,random_state=6)"
   ]
  },
  {
   "cell_type": "code",
   "execution_count": 31,
   "metadata": {},
   "outputs": [],
   "source": [
    "# create an xgboost regression model\n",
    "model_XGB = xgb.XGBRegressor()"
   ]
  },
  {
   "cell_type": "code",
   "execution_count": 32,
   "metadata": {},
   "outputs": [
    {
     "data": {
      "text/plain": [
       "XGBRegressor(base_score=0.5, booster='gbtree', colsample_bylevel=1,\n",
       "             colsample_bynode=1, colsample_bytree=1, gamma=0, gpu_id=-1,\n",
       "             importance_type='gain', interaction_constraints='',\n",
       "             learning_rate=0.300000012, max_delta_step=0, max_depth=6,\n",
       "             min_child_weight=1, missing=nan, monotone_constraints='()',\n",
       "             n_estimators=100, n_jobs=8, num_parallel_tree=1, random_state=0,\n",
       "             reg_alpha=0, reg_lambda=1, scale_pos_weight=1, subsample=1,\n",
       "             tree_method='exact', validate_parameters=1, verbosity=None)"
      ]
     },
     "execution_count": 32,
     "metadata": {},
     "output_type": "execute_result"
    }
   ],
   "source": [
    "# Train the model on training data\n",
    "model_XGB.fit(x_train, y_train)"
   ]
  },
  {
   "cell_type": "code",
   "execution_count": 33,
   "metadata": {},
   "outputs": [
    {
     "ename": "AttributeError",
     "evalue": "'numpy.ndarray' object has no attribute 'head'",
     "output_type": "error",
     "traceback": [
      "\u001b[1;31m---------------------------------------------------------------------------\u001b[0m",
      "\u001b[1;31mAttributeError\u001b[0m                            Traceback (most recent call last)",
      "\u001b[1;32m<ipython-input-33-acfe93503e98>\u001b[0m in \u001b[0;36m<module>\u001b[1;34m\u001b[0m\n\u001b[1;32m----> 1\u001b[1;33m \u001b[0mX\u001b[0m\u001b[1;33m.\u001b[0m\u001b[0mhead\u001b[0m\u001b[1;33m(\u001b[0m\u001b[1;36m1\u001b[0m\u001b[1;33m)\u001b[0m\u001b[1;33m\u001b[0m\u001b[1;33m\u001b[0m\u001b[0m\n\u001b[0m",
      "\u001b[1;31mAttributeError\u001b[0m: 'numpy.ndarray' object has no attribute 'head'"
     ]
    }
   ],
   "source": [
    "X.head(1)"
   ]
  },
  {
   "cell_type": "markdown",
   "metadata": {},
   "source": [
    "# saving our model"
   ]
  },
  {
   "cell_type": "code",
   "execution_count": null,
   "metadata": {},
   "outputs": [],
   "source": [
    "import pickle\n",
    "\n",
    "model_save_path = \"XG_model.pkl\"\n",
    "\n",
    "with open(model_save_path,'wb') as file:\n",
    "    pickle.dump(model_XGB,file)"
   ]
  },
  {
   "cell_type": "markdown",
   "metadata": {},
   "source": [
    "### Test XGBoost Model"
   ]
  },
  {
   "cell_type": "code",
   "execution_count": null,
   "metadata": {},
   "outputs": [],
   "source": [
    "#Get predictions\n",
    "y_pred2 = model_XGB.predict(np.array(test))"
   ]
  },
  {
   "cell_type": "code",
   "execution_count": null,
   "metadata": {},
   "outputs": [],
   "source": [
    "y_pred2"
   ]
  },
  {
   "cell_type": "code",
   "execution_count": null,
   "metadata": {},
   "outputs": [],
   "source": [
    "# create submission dataframe\n",
    "\n",
    "submission = pd.DataFrame(\n",
    "    {\n",
    "     'avg_price_per_kg': y_pred2\n",
    "    })\n",
    "submission.index += 1\n",
    "submission[\"Index\"] = submission.index\n",
    "submission= submission[['Index', 'avg_price_per_kg']]"
   ]
  },
  {
   "cell_type": "code",
   "execution_count": null,
   "metadata": {},
   "outputs": [],
   "source": [
    "submission"
   ]
  },
  {
   "cell_type": "code",
   "execution_count": null,
   "metadata": {},
   "outputs": [],
   "source": [
    "# save DataFrame to csv file for submission\n",
    "submission.to_csv(\"ZM2_xgboost_model.csv\", index=False)"
   ]
  },
  {
   "cell_type": "markdown",
   "metadata": {},
   "source": [
    "#### Evaluating the model"
   ]
  },
  {
   "cell_type": "code",
   "execution_count": null,
   "metadata": {},
   "outputs": [],
   "source": [
    "test_pred2 = model_XGB.predict(x_test)\n",
    "    \n",
    "test_rmse = np.sqrt(mean_squared_error(test_pred2,y_test))\n",
    "\n",
    "{'Test RMSE': test_rmse}"
   ]
  },
  {
   "cell_type": "markdown",
   "metadata": {},
   "source": [
    "As we can see the XGBoost model has lower RMSE than the Random Forest model"
   ]
  },
  {
   "cell_type": "code",
   "execution_count": null,
   "metadata": {},
   "outputs": [],
   "source": []
  }
 ],
 "metadata": {
  "kernelspec": {
   "display_name": "Python 3",
   "language": "python",
   "name": "python3"
  },
  "language_info": {
   "codemirror_mode": {
    "name": "ipython",
    "version": 3
   },
   "file_extension": ".py",
   "mimetype": "text/x-python",
   "name": "python",
   "nbconvert_exporter": "python",
   "pygments_lexer": "ipython3",
   "version": "3.8.5"
  },
  "metadata": {
   "interpreter": {
    "hash": "ef7565c41f3af6f8e94d4baffdc554919a260998519a48792250be2e488e616e"
   }
  }
 },
 "nbformat": 4,
 "nbformat_minor": 4
}
